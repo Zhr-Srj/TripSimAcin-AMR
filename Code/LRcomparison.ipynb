{
  "nbformat": 4,
  "nbformat_minor": 0,
  "metadata": {
    "colab": {
      "provenance": [],
      "toc_visible": true,
      "mount_file_id": "1TM30LqfVuQlwJx_3-A-gbZSzpsYmtVMZ",
      "authorship_tag": "ABX9TyPDWFUUuLKAv+N7W6oEl5um",
      "include_colab_link": true
    },
    "kernelspec": {
      "name": "python3",
      "display_name": "Python 3"
    },
    "language_info": {
      "name": "python"
    }
  },
  "cells": [
    {
      "cell_type": "markdown",
      "metadata": {
        "id": "view-in-github",
        "colab_type": "text"
      },
      "source": [
        "<a href=\"https://colab.research.google.com/github/Zhr-Srj/TripSimAcin-AMR/blob/main/Code/LRcomparison.ipynb\" target=\"_parent\"><img src=\"https://colab.research.google.com/assets/colab-badge.svg\" alt=\"Open In Colab\"/></a>"
      ]
    },
    {
      "cell_type": "markdown",
      "source": [
        "We want to compare results of Machine learning models trained on the same dataset and tested on the same dataset, This time Logistic regression included.\n",
        "\n",
        "This file includes results from Table 9"
      ],
      "metadata": {
        "id": "PCebwIrlNhj-"
      }
    },
    {
      "cell_type": "markdown",
      "source": [
        "# Required packages"
      ],
      "metadata": {
        "id": "TEVrK4Qa1_yY"
      }
    },
    {
      "cell_type": "code",
      "source": [
        "pip install xgboost"
      ],
      "metadata": {
        "colab": {
          "base_uri": "https://localhost:8080/"
        },
        "id": "POWCN4poX_eC",
        "outputId": "3d891eb7-e6a1-4eb5-e3b8-61b9c072bae2"
      },
      "execution_count": null,
      "outputs": [
        {
          "output_type": "stream",
          "name": "stdout",
          "text": [
            "Requirement already satisfied: xgboost in /usr/local/lib/python3.11/dist-packages (2.1.3)\n",
            "Requirement already satisfied: numpy in /usr/local/lib/python3.11/dist-packages (from xgboost) (1.26.4)\n",
            "Requirement already satisfied: nvidia-nccl-cu12 in /usr/local/lib/python3.11/dist-packages (from xgboost) (2.21.5)\n",
            "Requirement already satisfied: scipy in /usr/local/lib/python3.11/dist-packages (from xgboost) (1.13.1)\n"
          ]
        }
      ]
    },
    {
      "cell_type": "code",
      "source": [
        "import csv\n",
        "\n",
        "import numpy as np\n",
        "import pandas as pd\n",
        "import seaborn as sns\n",
        "\n",
        "import random\n",
        "from random import sample, shuffle\n",
        "\n",
        "import matplotlib.pyplot as plt\n",
        "\n",
        "from sklearn.metrics import roc_auc_score, confusion_matrix, accuracy_score\n",
        "from sklearn.model_selection import KFold\n",
        "from sklearn.ensemble import RandomForestClassifier\n",
        "from sklearn.svm import SVC\n",
        "from sklearn.linear_model import LogisticRegression as lr\n",
        "\n",
        "import xgboost"
      ],
      "metadata": {
        "id": "rckjc19QzscK"
      },
      "execution_count": null,
      "outputs": []
    },
    {
      "cell_type": "markdown",
      "source": [
        "# Data preparation"
      ],
      "metadata": {
        "id": "BrTOj5d_NzVY"
      }
    },
    {
      "cell_type": "markdown",
      "source": [
        "## Loading train dataset"
      ],
      "metadata": {
        "id": "aU9fU_5QOJFa"
      }
    },
    {
      "cell_type": "code",
      "source": [
        "with open(r'/content/drive/MyDrive/Dataset_SHAP_u.txt') as f:\n",
        "    data = []\n",
        "    for line in f.readlines():\n",
        "        row = []\n",
        "        for elem in line.split(sep=','):\n",
        "            row.append(int(elem.strip()))\n",
        "        data.append(row)\n",
        "print(len(data))\n",
        "print(len(data[0]))"
      ],
      "metadata": {
        "id": "sGuGTtRvn-9O",
        "colab": {
          "base_uri": "https://localhost:8080/"
        },
        "outputId": "bf85b4ff-d103-49be-b47b-2232bb7f3b3a"
      },
      "execution_count": null,
      "outputs": [
        {
          "output_type": "stream",
          "name": "stdout",
          "text": [
            "7207\n",
            "2996\n"
          ]
        }
      ]
    },
    {
      "cell_type": "code",
      "source": [
        "#Reading phenotypes file\n",
        "with open(r'/content/drive/MyDrive/DrugLabel_SHAP_u.txt') as fy:\n",
        "    labels = []\n",
        "    drugs = [] #stores drug name in each row\n",
        "    row = 0 # row number of each label (is needed because data is reordered while spliting)\n",
        "    reader = csv.reader(fy)\n",
        "    for i in reader:\n",
        "        labels.append([row, int(i[1])])\n",
        "        drugs.append(i[0])\n",
        "        row += 1\n",
        "\n",
        "print(len(labels))\n",
        "print(len(drugs))\n",
        "print(labels[:5])"
      ],
      "metadata": {
        "colab": {
          "base_uri": "https://localhost:8080/"
        },
        "outputId": "01aa90e4-bc63-4231-f40b-45b55ab48296",
        "id": "XPyIJJ6Kn-9q"
      },
      "execution_count": null,
      "outputs": [
        {
          "output_type": "stream",
          "name": "stdout",
          "text": [
            "7207\n",
            "7207\n",
            "[[0, 1], [1, 0], [2, 0], [3, 1], [4, 1]]\n"
          ]
        }
      ]
    },
    {
      "cell_type": "code",
      "source": [
        "labels = np.asarray(labels)"
      ],
      "metadata": {
        "id": "8gEA0s58odLV"
      },
      "execution_count": null,
      "outputs": []
    },
    {
      "cell_type": "markdown",
      "source": [
        "### A survey on data"
      ],
      "metadata": {
        "id": "h9gvqsP-pk8D"
      }
    },
    {
      "cell_type": "code",
      "source": [
        "unq_drugs = set(drugs)\n",
        "len(unq_drugs)"
      ],
      "metadata": {
        "colab": {
          "base_uri": "https://localhost:8080/"
        },
        "id": "JrGsAYvzpnp9",
        "outputId": "e3a3f019-10d0-4716-fb7b-3a80d4200585"
      },
      "execution_count": null,
      "outputs": [
        {
          "output_type": "execute_result",
          "data": {
            "text/plain": [
              "12"
            ]
          },
          "metadata": {},
          "execution_count": 19
        }
      ]
    },
    {
      "cell_type": "code",
      "source": [
        "per_drug_dic = {}\n",
        "for i, drug in enumerate(drugs_unique):\n",
        "  if drug not in per_drug_dic.keys():\n",
        "    per_drug_dic[drug] = [0, 0]  # num of resistant, num of susceptible\n",
        "  if labels[i][1] == 0:\n",
        "    per_drug_dic[drug][1] += 1\n",
        "  else:\n",
        "    per_drug_dic[drug][0] += 1\n",
        "\n",
        "per_drug_dic"
      ],
      "metadata": {
        "colab": {
          "base_uri": "https://localhost:8080/"
        },
        "id": "scPVCQ5Spve8",
        "outputId": "3727204e-226b-4806-87a7-42a7136d7eb6"
      },
      "execution_count": null,
      "outputs": [
        {
          "output_type": "execute_result",
          "data": {
            "text/plain": [
              "{'ciprofloxacin': [651, 97],\n",
              " 'doripenem': [51, 148],\n",
              " 'gentamicin': [572, 94],\n",
              " 'tetracycline': [511, 182],\n",
              " 'cefotaxime': [568, 31],\n",
              " 'meropenem': [166, 172],\n",
              " 'imipenem': [196, 508],\n",
              " 'amikacin': [300, 394],\n",
              " 'levofloxacin': [459, 146],\n",
              " 'ceftriaxone': [633, 34],\n",
              " 'ceftazidime': [526, 105],\n",
              " 'moxifloxacin': [57, 29]}"
            ]
          },
          "metadata": {},
          "execution_count": 20
        }
      ]
    },
    {
      "cell_type": "code",
      "source": [
        "keys = []\n",
        "for element in data:\n",
        "  if np.asarray(element[:2693]).tobytes() not in keys:\n",
        "    keys.append(np.asarray(element[:2693]).tobytes())\n",
        "\n",
        "print(\"Number of strains in dataset\", len(keys))"
      ],
      "metadata": {
        "colab": {
          "base_uri": "https://localhost:8080/"
        },
        "id": "sPT2BSBz9nlb",
        "outputId": "61ed61b1-62e2-4e0a-cdc0-6e7049e58a02"
      },
      "execution_count": null,
      "outputs": [
        {
          "output_type": "stream",
          "name": "stdout",
          "text": [
            "Number of strains in dataset 766\n"
          ]
        }
      ]
    },
    {
      "cell_type": "code",
      "source": [
        "labels = np.asarray(labels)"
      ],
      "metadata": {
        "id": "_B7uBLLAfnwN"
      },
      "execution_count": null,
      "outputs": []
    },
    {
      "cell_type": "markdown",
      "source": [
        "## Loading strain_aside dataset"
      ],
      "metadata": {
        "id": "WRX-isBNOM-L"
      }
    },
    {
      "cell_type": "code",
      "source": [
        "f1 = open(r'/content/drive/MyDrive/Master_new_Sep/Strain_aside_Dataset_SHAP.txt')\n",
        "\n",
        "external_test_set = []\n",
        "\n",
        "for line in f1.readlines():\n",
        "    row = []\n",
        "    for elem in line.split(sep=','):\n",
        "        row.append(int(elem.strip()))\n",
        "    external_test_set.append(row)\n",
        "\n",
        "print(len(external_test_set))\n",
        "print(len(external_test_set[0]))\n",
        "\n",
        "f1.close()"
      ],
      "metadata": {
        "colab": {
          "base_uri": "https://localhost:8080/"
        },
        "id": "H3cSqS7e-sJZ",
        "outputId": "d17d5f6a-cbb3-4928-ac40-0e875956da85"
      },
      "execution_count": null,
      "outputs": [
        {
          "output_type": "stream",
          "name": "stdout",
          "text": [
            "1371\n",
            "2996\n"
          ]
        }
      ]
    },
    {
      "cell_type": "code",
      "source": [
        "#Reading phenotypes file\n",
        "with open(r'/content/drive/MyDrive/Master_new_Sep/Strain_aside_drugLabel_SHAP.txt') as fy:\n",
        "    external_test_labels = []\n",
        "    external_test_drugs = [] #stores drug name in each row\n",
        "    row = 0 # row number of each label (is needed because data is reordered while spliting)\n",
        "    reader = csv.reader(fy)\n",
        "    for i in reader:\n",
        "        external_test_labels.append([row, int(i[1])])\n",
        "        external_test_drugs.append(i[0])\n",
        "        row += 1\n",
        "\n",
        "print(len(external_test_labels))\n",
        "print(len(external_test_drugs))\n",
        "print(external_test_labels[:5])"
      ],
      "metadata": {
        "colab": {
          "base_uri": "https://localhost:8080/"
        },
        "outputId": "65b597b6-fe47-4dc3-f3e1-2de93fdb75d2",
        "id": "Fbwm1pRmu7Cu"
      },
      "execution_count": null,
      "outputs": [
        {
          "output_type": "stream",
          "name": "stdout",
          "text": [
            "1371\n",
            "1371\n",
            "[[0, 1], [1, 1], [2, 1], [3, 1], [4, 1]]\n"
          ]
        }
      ]
    },
    {
      "cell_type": "code",
      "source": [
        "external_test_labels = np.asarray(external_test_labels)"
      ],
      "metadata": {
        "id": "uhl-yWkqu7Cv"
      },
      "execution_count": null,
      "outputs": []
    },
    {
      "cell_type": "code",
      "source": [
        "len(set(external_test_drugs))"
      ],
      "metadata": {
        "colab": {
          "base_uri": "https://localhost:8080/"
        },
        "id": "ZGBQyNkJ1UHx",
        "outputId": "4b00a65a-074e-4ee1-92e6-d768dc2eb627"
      },
      "execution_count": null,
      "outputs": [
        {
          "output_type": "execute_result",
          "data": {
            "text/plain": [
              "10"
            ]
          },
          "metadata": {},
          "execution_count": 25
        }
      ]
    },
    {
      "cell_type": "code",
      "source": [
        "set(external_test_drugs)"
      ],
      "metadata": {
        "colab": {
          "base_uri": "https://localhost:8080/"
        },
        "id": "eh59KuyN1ZnZ",
        "outputId": "91906c37-343b-401d-9180-4bd61069aec6"
      },
      "execution_count": null,
      "outputs": [
        {
          "output_type": "execute_result",
          "data": {
            "text/plain": [
              "{'amikacin',\n",
              " 'cefotaxime',\n",
              " 'ceftazidime',\n",
              " 'ceftriaxone',\n",
              " 'ciprofloxacin',\n",
              " 'gentamicin',\n",
              " 'imipenem',\n",
              " 'levofloxacin',\n",
              " 'meropenem',\n",
              " 'tetracycline'}"
            ]
          },
          "metadata": {},
          "execution_count": 26
        }
      ]
    },
    {
      "cell_type": "code",
      "source": [
        "unq_drugs = set(external_test_drugs)\n",
        "len(unq_drugs)"
      ],
      "metadata": {
        "colab": {
          "base_uri": "https://localhost:8080/"
        },
        "outputId": "a8cb3132-147d-4d18-cc37-c9844a4f7c63",
        "id": "GV6C3H3Q1rTL"
      },
      "execution_count": null,
      "outputs": [
        {
          "output_type": "execute_result",
          "data": {
            "text/plain": [
              "10"
            ]
          },
          "metadata": {},
          "execution_count": 27
        }
      ]
    },
    {
      "cell_type": "code",
      "source": [
        "per_drug_dic = {}\n",
        "for i, drug in enumerate(external_test_drugs):\n",
        "  if drug not in per_drug_dic.keys():\n",
        "    per_drug_dic[drug] = [0, 0]  # num of resistant, num of susceptible\n",
        "  if external_test_labels[i][1] == 0:\n",
        "    per_drug_dic[drug][1] += 1\n",
        "  else:\n",
        "    per_drug_dic[drug][0] += 1\n",
        "\n",
        "per_drug_dic"
      ],
      "metadata": {
        "colab": {
          "base_uri": "https://localhost:8080/"
        },
        "outputId": "75c8a971-1386-414c-e17d-7e28a3bf87a2",
        "id": "cNiR_6r31rTN"
      },
      "execution_count": null,
      "outputs": [
        {
          "output_type": "execute_result",
          "data": {
            "text/plain": [
              "{'ciprofloxacin': [211, 23],\n",
              " 'gentamicin': [202, 35],\n",
              " 'ceftriaxone': [206, 4],\n",
              " 'amikacin': [181, 26],\n",
              " 'ceftazidime': [211, 14],\n",
              " 'meropenem': [75, 6],\n",
              " 'levofloxacin': [66, 6],\n",
              " 'imipenem': [75, 6],\n",
              " 'tetracycline': [14, 0],\n",
              " 'cefotaxime': [10, 0]}"
            ]
          },
          "metadata": {},
          "execution_count": 28
        }
      ]
    },
    {
      "cell_type": "markdown",
      "source": [
        "# Evaluation functions"
      ],
      "metadata": {
        "id": "szBCYnrPR6uU"
      }
    },
    {
      "cell_type": "code",
      "source": [
        "def evaluation(true_labels, pred_labels):\n",
        "\n",
        "  Dis_pred = []\n",
        "  for i in pred_labels:\n",
        "    if i < 0.5:\n",
        "      Dis_pred.append(0)\n",
        "    else:\n",
        "      Dis_pred.append(1)\n",
        "\n",
        "  acc = accuracy_score(true_labels, Dis_pred)\n",
        "  auc = roc_auc_score(true_labels, Dis_pred)\n",
        "\n",
        "  TN, FP, FN, TP = confusion_matrix(true_labels, Dis_pred, labels=[0, 1]).ravel()\n",
        "\n",
        "  sen = TP/(TP+FN)\n",
        "  spc = TN/(TN+FP)\n",
        "\n",
        "  return acc, auc, sen, spc"
      ],
      "metadata": {
        "id": "yiCoHbLdZhG0"
      },
      "execution_count": null,
      "outputs": []
    },
    {
      "cell_type": "markdown",
      "source": [
        "# Models' training"
      ],
      "metadata": {
        "id": "ri-ZX3BpRQ4O"
      }
    },
    {
      "cell_type": "markdown",
      "source": [
        "## RF"
      ],
      "metadata": {
        "id": "LbL0KSBEcuRN"
      }
    },
    {
      "cell_type": "code",
      "source": [
        "accs = []\n",
        "aucs = []\n",
        "sens = []\n",
        "spcs = []\n",
        "\n",
        "for i in range(10):\n",
        "  model = RandomForestClassifier(n_estimators=100).fit(data, labels[:, 1])\n",
        "  predict_RF = model.predict(external_test_set)\n",
        "  acc, auc, sen, spc = evaluation(external_test_labels[:, 1], predict_RF)\n",
        "  accs.append(acc)\n",
        "  aucs.append(auc)\n",
        "  sens.append(sen)\n",
        "  spcs.append(spc)"
      ],
      "metadata": {
        "id": "zWWHBm60YLbJ"
      },
      "execution_count": null,
      "outputs": []
    },
    {
      "cell_type": "code",
      "source": [
        "print('Accuracies: ', accs)\n",
        "print('ROC-AUCs: ', aucs)\n",
        "print(\"Sensitivities: \", sens)\n",
        "print(\"Specificities: \", spcs)\n",
        "\n",
        "print(\"Mean accuracy: \", sum(accs)/len(accs))\n",
        "print(\"Mean auc: \", sum(aucs)/len(aucs))\n",
        "print(\"Mean sensitivity: \", sum(sens)/len(sens))\n",
        "print(\"Mean specificity: \", sum(spcs)/len(spcs))"
      ],
      "metadata": {
        "colab": {
          "base_uri": "https://localhost:8080/"
        },
        "id": "gjB4UShdcygU",
        "outputId": "c4e402a7-3fde-4516-d481-59a1d52d9fe2"
      },
      "execution_count": null,
      "outputs": [
        {
          "output_type": "stream",
          "name": "stdout",
          "text": [
            "Accuracies:  [0.8431801604668125, 0.8526622902990518, 0.8388037928519329, 0.8358862144420132, 0.8453683442742523, 0.8395331874544129, 0.8358862144420132, 0.8475565280816922, 0.8409919766593728, 0.8424507658643327]\n",
            "ROC-AUCs:  [0.804826139088729, 0.7987210231814549, 0.791127098321343, 0.8045963229416466, 0.7984912070343726, 0.8028277378097521, 0.8008293365307754, 0.8109912070343726, 0.8149280575539568, 0.8232613908872902]\n",
            "Sensitivities:  [0.8513189448441247, 0.8641087130295764, 0.8489208633093526, 0.8425259792166268, 0.8553157474020784, 0.8473221422861711, 0.8433253397282174, 0.8553157474020784, 0.8465227817745803, 0.8465227817745803]\n",
            "Specificities:  [0.7583333333333333, 0.7333333333333333, 0.7333333333333333, 0.7666666666666667, 0.7416666666666667, 0.7583333333333333, 0.7583333333333333, 0.7666666666666667, 0.7833333333333333, 0.8]\n",
            "Mean accuracy:  0.8422319474835886\n",
            "Mean auc:  0.8050599520383693\n",
            "Mean sensitivity:  0.8501199040767385\n",
            "Mean specificity:  0.76\n"
          ]
        }
      ]
    },
    {
      "cell_type": "markdown",
      "source": [
        "## SVM"
      ],
      "metadata": {
        "id": "NlmrAZdecxsV"
      }
    },
    {
      "cell_type": "code",
      "source": [
        "accs = []\n",
        "aucs = []\n",
        "sens = []\n",
        "spcs = []\n",
        "\n",
        "for i in range(10):\n",
        "\n",
        "  model = SVC(kernel='poly').fit(data, labels[:, 1])\n",
        "  predict_SVM = model.predict(external_test_set)\n",
        "\n",
        "  acc, auc, sen, spc = evaluation(external_test_labels[:, 1], predict_SVM)\n",
        "  accs.append(acc)\n",
        "  aucs.append(auc)\n",
        "  sens.append(sen)\n",
        "  spcs.append(spc)"
      ],
      "metadata": {
        "id": "aaP_pC0xeBC2"
      },
      "execution_count": null,
      "outputs": []
    },
    {
      "cell_type": "code",
      "source": [
        "print('Accuracies: ', accs)\n",
        "print('ROC-AUCs: ', aucs)\n",
        "print(\"Sensitivities: \", sens)\n",
        "print(\"Specificities: \", spcs)\n",
        "\n",
        "print(\"Mean accuracy: \", sum(accs)/len(accs))\n",
        "print(\"Mean auc: \", sum(aucs)/len(aucs))\n",
        "print(\"Mean sensitivity: \", sum(sens)/len(sens))\n",
        "print(\"Mean specificity: \", sum(spcs)/len(spcs))"
      ],
      "metadata": {
        "colab": {
          "base_uri": "https://localhost:8080/"
        },
        "id": "SmyI2J5heBC4",
        "outputId": "0ac9c526-4d27-4812-b26b-0352e984cb78"
      },
      "execution_count": null,
      "outputs": [
        {
          "output_type": "stream",
          "name": "stdout",
          "text": [
            "Accuracies:  [0.8424507658643327, 0.8424507658643327, 0.8424507658643327, 0.8424507658643327, 0.8424507658643327, 0.8424507658643327, 0.8424507658643327, 0.8424507658643327, 0.8424507658643327, 0.8424507658643327]\n",
            "ROC-AUCs:  [0.7855915267785771, 0.7855915267785771, 0.7855915267785771, 0.7855915267785771, 0.7855915267785771, 0.7855915267785771, 0.7855915267785771, 0.7855915267785771, 0.7855915267785771, 0.7855915267785771]\n",
            "Sensitivities:  [0.8545163868904876, 0.8545163868904876, 0.8545163868904876, 0.8545163868904876, 0.8545163868904876, 0.8545163868904876, 0.8545163868904876, 0.8545163868904876, 0.8545163868904876, 0.8545163868904876]\n",
            "Specificities:  [0.7166666666666667, 0.7166666666666667, 0.7166666666666667, 0.7166666666666667, 0.7166666666666667, 0.7166666666666667, 0.7166666666666667, 0.7166666666666667, 0.7166666666666667, 0.7166666666666667]\n",
            "Mean accuracy:  0.8424507658643325\n",
            "Mean auc:  0.7855915267785772\n",
            "Mean sensitivity:  0.8545163868904877\n",
            "Mean specificity:  0.7166666666666667\n"
          ]
        }
      ]
    },
    {
      "cell_type": "markdown",
      "source": [
        "## XGBoost"
      ],
      "metadata": {
        "id": "53A6u93GeV-o"
      }
    },
    {
      "cell_type": "code",
      "source": [
        "accs = []\n",
        "aucs = []\n",
        "sens = []\n",
        "spcs = []\n",
        "\n",
        "for i in range(10):\n",
        "\n",
        "  model = xgboost.XGBClassifier().fit(data, labels[:, 1])\n",
        "  predict_XGB = model.predict(external_test_set)\n",
        "\n",
        "  acc, auc, sen, spc = evaluation(external_test_labels[:, 1], predict_XGB)\n",
        "  accs.append(acc)\n",
        "  aucs.append(auc)\n",
        "  sens.append(sen)\n",
        "  spcs.append(spc)"
      ],
      "metadata": {
        "id": "bWQJQBWPeV-q"
      },
      "execution_count": null,
      "outputs": []
    },
    {
      "cell_type": "code",
      "source": [
        "print('Accuracies: ', accs)\n",
        "print('ROC-AUCs: ', aucs)\n",
        "print(\"Sensitivities: \", sens)\n",
        "print(\"Specificities: \", spcs)\n",
        "\n",
        "print(\"Mean accuracy: \", sum(accs)/len(accs))\n",
        "print(\"Mean auc: \", sum(aucs)/len(aucs))\n",
        "print(\"Mean sensitivity: \", sum(sens)/len(sens))\n",
        "print(\"Mean specificity: \", sum(spcs)/len(spcs))"
      ],
      "metadata": {
        "colab": {
          "base_uri": "https://localhost:8080/"
        },
        "id": "ONQ9FdFZeV-r",
        "outputId": "8b20ac33-4b13-468e-c5f6-01399d3c7a6c"
      },
      "execution_count": null,
      "outputs": [
        {
          "output_type": "stream",
          "name": "stdout",
          "text": [
            "Accuracies:  [0.9022611232676878, 0.9022611232676878, 0.9022611232676878, 0.9022611232676878, 0.9022611232676878, 0.9022611232676878, 0.9022611232676878, 0.9022611232676878, 0.9022611232676878, 0.9022611232676878]\n",
            "ROC-AUCs:  [0.8447342126298961, 0.8447342126298961, 0.8447342126298961, 0.8447342126298961, 0.8447342126298961, 0.8447342126298961, 0.8447342126298961, 0.8447342126298961, 0.8447342126298961, 0.8447342126298961]\n",
            "Sensitivities:  [0.9144684252597922, 0.9144684252597922, 0.9144684252597922, 0.9144684252597922, 0.9144684252597922, 0.9144684252597922, 0.9144684252597922, 0.9144684252597922, 0.9144684252597922, 0.9144684252597922]\n",
            "Specificities:  [0.775, 0.775, 0.775, 0.775, 0.775, 0.775, 0.775, 0.775, 0.775, 0.775]\n",
            "Mean accuracy:  0.902261123267688\n",
            "Mean auc:  0.844734212629896\n",
            "Mean sensitivity:  0.9144684252597923\n",
            "Mean specificity:  0.7750000000000001\n"
          ]
        }
      ]
    },
    {
      "cell_type": "markdown",
      "source": [
        "## Logistic regression"
      ],
      "metadata": {
        "id": "RCYE2_TgeogG"
      }
    },
    {
      "cell_type": "code",
      "source": [
        "accs = []\n",
        "aucs = []\n",
        "sens = []\n",
        "spcs = []\n",
        "\n",
        "for i in range(10):\n",
        "\n",
        "  model = lr().fit(data, labels[:, 1])\n",
        "  predict_lr = model.predict(external_test_set)\n",
        "\n",
        "  acc, auc, sen, spc = evaluation(external_test_labels[:, 1], predict_lr)\n",
        "  accs.append(acc)\n",
        "  aucs.append(auc)\n",
        "  sens.append(sen)\n",
        "  spcs.append(spc)"
      ],
      "metadata": {
        "id": "RVtvu5UQet5B"
      },
      "execution_count": null,
      "outputs": []
    },
    {
      "cell_type": "code",
      "source": [
        "print('Accuracies: ', accs)\n",
        "print('ROC-AUCs: ', aucs)\n",
        "print(\"Sensitivities: \", sens)\n",
        "print(\"Specificities: \", spcs)\n",
        "\n",
        "print(\"Mean accuracy: \", sum(accs)/len(accs))\n",
        "print(\"Mean auc: \", sum(aucs)/len(aucs))\n",
        "print(\"Mean sensitivity: \", sum(sens)/len(sens))\n",
        "print(\"Mean specificity: \", sum(spcs)/len(spcs))"
      ],
      "metadata": {
        "colab": {
          "base_uri": "https://localhost:8080/"
        },
        "id": "otSHkiCHet5D",
        "outputId": "a8fe6e13-16fe-4315-f21c-837d9f931661"
      },
      "execution_count": null,
      "outputs": [
        {
          "output_type": "stream",
          "name": "stdout",
          "text": [
            "Accuracies:  [0.8811086797957695, 0.8811086797957695, 0.8811086797957695, 0.8811086797957695, 0.8811086797957695, 0.8811086797957695, 0.8811086797957695, 0.8811086797957695, 0.8811086797957695, 0.8811086797957695]\n",
            "ROC-AUCs:  [0.8105415667466026, 0.8105415667466026, 0.8105415667466026, 0.8105415667466026, 0.8105415667466026, 0.8105415667466026, 0.8105415667466026, 0.8105415667466026, 0.8105415667466026, 0.8105415667466026]\n",
            "Sensitivities:  [0.8960831334932055, 0.8960831334932055, 0.8960831334932055, 0.8960831334932055, 0.8960831334932055, 0.8960831334932055, 0.8960831334932055, 0.8960831334932055, 0.8960831334932055, 0.8960831334932055]\n",
            "Specificities:  [0.725, 0.725, 0.725, 0.725, 0.725, 0.725, 0.725, 0.725, 0.725, 0.725]\n",
            "Mean accuracy:  0.8811086797957695\n",
            "Mean auc:  0.8105415667466025\n",
            "Mean sensitivity:  0.8960831334932055\n",
            "Mean specificity:  0.7249999999999999\n"
          ]
        }
      ]
    },
    {
      "cell_type": "markdown",
      "source": [
        "# Results"
      ],
      "metadata": {
        "id": "dVvJ4ybtkDba"
      }
    },
    {
      "cell_type": "code",
      "source": [
        "models = ['RF', 'SVM', 'XGB', 'LR']\n",
        "accs = [0.84, 0.84, 0.9, 0.88]\n",
        "aucs = [0.8, 0.78, 0.84, 0.81]\n",
        "sens = [0.85, 0.85, 0.91, 0.9]\n",
        "spcs = [0.76, 0.71, 0.77, 0.72]\n",
        "\n",
        "results = [accs, aucs, sens, spcs]\n",
        "\n",
        "df = pd.DataFrame(results, columns=models, index=['acc', 'auc', 'sen', 'spc'])\n",
        "\n",
        "df"
      ],
      "metadata": {
        "colab": {
          "base_uri": "https://localhost:8080/",
          "height": 174
        },
        "id": "Xv1YeaOAiin9",
        "outputId": "e292f02d-5205-4427-abb7-29ae0ec6fa24"
      },
      "execution_count": null,
      "outputs": [
        {
          "output_type": "execute_result",
          "data": {
            "text/plain": [
              "       RF   SVM   XGB    LR\n",
              "acc  0.84  0.84  0.90  0.88\n",
              "auc  0.80  0.78  0.84  0.81\n",
              "sen  0.85  0.85  0.91  0.90\n",
              "spc  0.76  0.71  0.77  0.72"
            ],
            "text/html": [
              "\n",
              "  <div id=\"df-5d32e0f0-00f4-427b-a13f-8ee17338a308\" class=\"colab-df-container\">\n",
              "    <div>\n",
              "<style scoped>\n",
              "    .dataframe tbody tr th:only-of-type {\n",
              "        vertical-align: middle;\n",
              "    }\n",
              "\n",
              "    .dataframe tbody tr th {\n",
              "        vertical-align: top;\n",
              "    }\n",
              "\n",
              "    .dataframe thead th {\n",
              "        text-align: right;\n",
              "    }\n",
              "</style>\n",
              "<table border=\"1\" class=\"dataframe\">\n",
              "  <thead>\n",
              "    <tr style=\"text-align: right;\">\n",
              "      <th></th>\n",
              "      <th>RF</th>\n",
              "      <th>SVM</th>\n",
              "      <th>XGB</th>\n",
              "      <th>LR</th>\n",
              "    </tr>\n",
              "  </thead>\n",
              "  <tbody>\n",
              "    <tr>\n",
              "      <th>acc</th>\n",
              "      <td>0.84</td>\n",
              "      <td>0.84</td>\n",
              "      <td>0.90</td>\n",
              "      <td>0.88</td>\n",
              "    </tr>\n",
              "    <tr>\n",
              "      <th>auc</th>\n",
              "      <td>0.80</td>\n",
              "      <td>0.78</td>\n",
              "      <td>0.84</td>\n",
              "      <td>0.81</td>\n",
              "    </tr>\n",
              "    <tr>\n",
              "      <th>sen</th>\n",
              "      <td>0.85</td>\n",
              "      <td>0.85</td>\n",
              "      <td>0.91</td>\n",
              "      <td>0.90</td>\n",
              "    </tr>\n",
              "    <tr>\n",
              "      <th>spc</th>\n",
              "      <td>0.76</td>\n",
              "      <td>0.71</td>\n",
              "      <td>0.77</td>\n",
              "      <td>0.72</td>\n",
              "    </tr>\n",
              "  </tbody>\n",
              "</table>\n",
              "</div>\n",
              "    <div class=\"colab-df-buttons\">\n",
              "\n",
              "  <div class=\"colab-df-container\">\n",
              "    <button class=\"colab-df-convert\" onclick=\"convertToInteractive('df-5d32e0f0-00f4-427b-a13f-8ee17338a308')\"\n",
              "            title=\"Convert this dataframe to an interactive table.\"\n",
              "            style=\"display:none;\">\n",
              "\n",
              "  <svg xmlns=\"http://www.w3.org/2000/svg\" height=\"24px\" viewBox=\"0 -960 960 960\">\n",
              "    <path d=\"M120-120v-720h720v720H120Zm60-500h600v-160H180v160Zm220 220h160v-160H400v160Zm0 220h160v-160H400v160ZM180-400h160v-160H180v160Zm440 0h160v-160H620v160ZM180-180h160v-160H180v160Zm440 0h160v-160H620v160Z\"/>\n",
              "  </svg>\n",
              "    </button>\n",
              "\n",
              "  <style>\n",
              "    .colab-df-container {\n",
              "      display:flex;\n",
              "      gap: 12px;\n",
              "    }\n",
              "\n",
              "    .colab-df-convert {\n",
              "      background-color: #E8F0FE;\n",
              "      border: none;\n",
              "      border-radius: 50%;\n",
              "      cursor: pointer;\n",
              "      display: none;\n",
              "      fill: #1967D2;\n",
              "      height: 32px;\n",
              "      padding: 0 0 0 0;\n",
              "      width: 32px;\n",
              "    }\n",
              "\n",
              "    .colab-df-convert:hover {\n",
              "      background-color: #E2EBFA;\n",
              "      box-shadow: 0px 1px 2px rgba(60, 64, 67, 0.3), 0px 1px 3px 1px rgba(60, 64, 67, 0.15);\n",
              "      fill: #174EA6;\n",
              "    }\n",
              "\n",
              "    .colab-df-buttons div {\n",
              "      margin-bottom: 4px;\n",
              "    }\n",
              "\n",
              "    [theme=dark] .colab-df-convert {\n",
              "      background-color: #3B4455;\n",
              "      fill: #D2E3FC;\n",
              "    }\n",
              "\n",
              "    [theme=dark] .colab-df-convert:hover {\n",
              "      background-color: #434B5C;\n",
              "      box-shadow: 0px 1px 3px 1px rgba(0, 0, 0, 0.15);\n",
              "      filter: drop-shadow(0px 1px 2px rgba(0, 0, 0, 0.3));\n",
              "      fill: #FFFFFF;\n",
              "    }\n",
              "  </style>\n",
              "\n",
              "    <script>\n",
              "      const buttonEl =\n",
              "        document.querySelector('#df-5d32e0f0-00f4-427b-a13f-8ee17338a308 button.colab-df-convert');\n",
              "      buttonEl.style.display =\n",
              "        google.colab.kernel.accessAllowed ? 'block' : 'none';\n",
              "\n",
              "      async function convertToInteractive(key) {\n",
              "        const element = document.querySelector('#df-5d32e0f0-00f4-427b-a13f-8ee17338a308');\n",
              "        const dataTable =\n",
              "          await google.colab.kernel.invokeFunction('convertToInteractive',\n",
              "                                                    [key], {});\n",
              "        if (!dataTable) return;\n",
              "\n",
              "        const docLinkHtml = 'Like what you see? Visit the ' +\n",
              "          '<a target=\"_blank\" href=https://colab.research.google.com/notebooks/data_table.ipynb>data table notebook</a>'\n",
              "          + ' to learn more about interactive tables.';\n",
              "        element.innerHTML = '';\n",
              "        dataTable['output_type'] = 'display_data';\n",
              "        await google.colab.output.renderOutput(dataTable, element);\n",
              "        const docLink = document.createElement('div');\n",
              "        docLink.innerHTML = docLinkHtml;\n",
              "        element.appendChild(docLink);\n",
              "      }\n",
              "    </script>\n",
              "  </div>\n",
              "\n",
              "\n",
              "<div id=\"df-2b2d2eb8-82e9-4171-b7ae-bd4a6a9c0e05\">\n",
              "  <button class=\"colab-df-quickchart\" onclick=\"quickchart('df-2b2d2eb8-82e9-4171-b7ae-bd4a6a9c0e05')\"\n",
              "            title=\"Suggest charts\"\n",
              "            style=\"display:none;\">\n",
              "\n",
              "<svg xmlns=\"http://www.w3.org/2000/svg\" height=\"24px\"viewBox=\"0 0 24 24\"\n",
              "     width=\"24px\">\n",
              "    <g>\n",
              "        <path d=\"M19 3H5c-1.1 0-2 .9-2 2v14c0 1.1.9 2 2 2h14c1.1 0 2-.9 2-2V5c0-1.1-.9-2-2-2zM9 17H7v-7h2v7zm4 0h-2V7h2v10zm4 0h-2v-4h2v4z\"/>\n",
              "    </g>\n",
              "</svg>\n",
              "  </button>\n",
              "\n",
              "<style>\n",
              "  .colab-df-quickchart {\n",
              "      --bg-color: #E8F0FE;\n",
              "      --fill-color: #1967D2;\n",
              "      --hover-bg-color: #E2EBFA;\n",
              "      --hover-fill-color: #174EA6;\n",
              "      --disabled-fill-color: #AAA;\n",
              "      --disabled-bg-color: #DDD;\n",
              "  }\n",
              "\n",
              "  [theme=dark] .colab-df-quickchart {\n",
              "      --bg-color: #3B4455;\n",
              "      --fill-color: #D2E3FC;\n",
              "      --hover-bg-color: #434B5C;\n",
              "      --hover-fill-color: #FFFFFF;\n",
              "      --disabled-bg-color: #3B4455;\n",
              "      --disabled-fill-color: #666;\n",
              "  }\n",
              "\n",
              "  .colab-df-quickchart {\n",
              "    background-color: var(--bg-color);\n",
              "    border: none;\n",
              "    border-radius: 50%;\n",
              "    cursor: pointer;\n",
              "    display: none;\n",
              "    fill: var(--fill-color);\n",
              "    height: 32px;\n",
              "    padding: 0;\n",
              "    width: 32px;\n",
              "  }\n",
              "\n",
              "  .colab-df-quickchart:hover {\n",
              "    background-color: var(--hover-bg-color);\n",
              "    box-shadow: 0 1px 2px rgba(60, 64, 67, 0.3), 0 1px 3px 1px rgba(60, 64, 67, 0.15);\n",
              "    fill: var(--button-hover-fill-color);\n",
              "  }\n",
              "\n",
              "  .colab-df-quickchart-complete:disabled,\n",
              "  .colab-df-quickchart-complete:disabled:hover {\n",
              "    background-color: var(--disabled-bg-color);\n",
              "    fill: var(--disabled-fill-color);\n",
              "    box-shadow: none;\n",
              "  }\n",
              "\n",
              "  .colab-df-spinner {\n",
              "    border: 2px solid var(--fill-color);\n",
              "    border-color: transparent;\n",
              "    border-bottom-color: var(--fill-color);\n",
              "    animation:\n",
              "      spin 1s steps(1) infinite;\n",
              "  }\n",
              "\n",
              "  @keyframes spin {\n",
              "    0% {\n",
              "      border-color: transparent;\n",
              "      border-bottom-color: var(--fill-color);\n",
              "      border-left-color: var(--fill-color);\n",
              "    }\n",
              "    20% {\n",
              "      border-color: transparent;\n",
              "      border-left-color: var(--fill-color);\n",
              "      border-top-color: var(--fill-color);\n",
              "    }\n",
              "    30% {\n",
              "      border-color: transparent;\n",
              "      border-left-color: var(--fill-color);\n",
              "      border-top-color: var(--fill-color);\n",
              "      border-right-color: var(--fill-color);\n",
              "    }\n",
              "    40% {\n",
              "      border-color: transparent;\n",
              "      border-right-color: var(--fill-color);\n",
              "      border-top-color: var(--fill-color);\n",
              "    }\n",
              "    60% {\n",
              "      border-color: transparent;\n",
              "      border-right-color: var(--fill-color);\n",
              "    }\n",
              "    80% {\n",
              "      border-color: transparent;\n",
              "      border-right-color: var(--fill-color);\n",
              "      border-bottom-color: var(--fill-color);\n",
              "    }\n",
              "    90% {\n",
              "      border-color: transparent;\n",
              "      border-bottom-color: var(--fill-color);\n",
              "    }\n",
              "  }\n",
              "</style>\n",
              "\n",
              "  <script>\n",
              "    async function quickchart(key) {\n",
              "      const quickchartButtonEl =\n",
              "        document.querySelector('#' + key + ' button');\n",
              "      quickchartButtonEl.disabled = true;  // To prevent multiple clicks.\n",
              "      quickchartButtonEl.classList.add('colab-df-spinner');\n",
              "      try {\n",
              "        const charts = await google.colab.kernel.invokeFunction(\n",
              "            'suggestCharts', [key], {});\n",
              "      } catch (error) {\n",
              "        console.error('Error during call to suggestCharts:', error);\n",
              "      }\n",
              "      quickchartButtonEl.classList.remove('colab-df-spinner');\n",
              "      quickchartButtonEl.classList.add('colab-df-quickchart-complete');\n",
              "    }\n",
              "    (() => {\n",
              "      let quickchartButtonEl =\n",
              "        document.querySelector('#df-2b2d2eb8-82e9-4171-b7ae-bd4a6a9c0e05 button');\n",
              "      quickchartButtonEl.style.display =\n",
              "        google.colab.kernel.accessAllowed ? 'block' : 'none';\n",
              "    })();\n",
              "  </script>\n",
              "</div>\n",
              "    </div>\n",
              "  </div>\n"
            ],
            "application/vnd.google.colaboratory.intrinsic+json": {
              "type": "dataframe",
              "variable_name": "df",
              "summary": "{\n  \"name\": \"df\",\n  \"rows\": 4,\n  \"fields\": [\n    {\n      \"column\": \"RF\",\n      \"properties\": {\n        \"dtype\": \"number\",\n        \"std\": 0.0411298755975102,\n        \"min\": 0.76,\n        \"max\": 0.85,\n        \"num_unique_values\": 4,\n        \"samples\": [\n          0.8,\n          0.76,\n          0.84\n        ],\n        \"semantic_type\": \"\",\n        \"description\": \"\"\n      }\n    },\n    {\n      \"column\": \"SVM\",\n      \"properties\": {\n        \"dtype\": \"number\",\n        \"std\": 0.06454972243679027,\n        \"min\": 0.71,\n        \"max\": 0.85,\n        \"num_unique_values\": 4,\n        \"samples\": [\n          0.78,\n          0.71,\n          0.84\n        ],\n        \"semantic_type\": \"\",\n        \"description\": \"\"\n      }\n    },\n    {\n      \"column\": \"XGB\",\n      \"properties\": {\n        \"dtype\": \"number\",\n        \"std\": 0.06454972243679029,\n        \"min\": 0.77,\n        \"max\": 0.91,\n        \"num_unique_values\": 4,\n        \"samples\": [\n          0.84,\n          0.77,\n          0.9\n        ],\n        \"semantic_type\": \"\",\n        \"description\": \"\"\n      }\n    },\n    {\n      \"column\": \"LR\",\n      \"properties\": {\n        \"dtype\": \"number\",\n        \"std\": 0.08139410298049855,\n        \"min\": 0.72,\n        \"max\": 0.9,\n        \"num_unique_values\": 4,\n        \"samples\": [\n          0.81,\n          0.72,\n          0.88\n        ],\n        \"semantic_type\": \"\",\n        \"description\": \"\"\n      }\n    }\n  ]\n}"
            }
          },
          "metadata": {},
          "execution_count": 42
        }
      ]
    }
  ]
}