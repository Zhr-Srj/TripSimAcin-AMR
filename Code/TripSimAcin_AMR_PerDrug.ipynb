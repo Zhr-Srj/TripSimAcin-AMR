{
  "nbformat": 4,
  "nbformat_minor": 0,
  "metadata": {
    "colab": {
      "provenance": [],
      "toc_visible": true,
      "include_colab_link": true
    },
    "kernelspec": {
      "name": "python3",
      "display_name": "Python 3"
    },
    "language_info": {
      "name": "python"
    }
  },
  "cells": [
    {
      "cell_type": "markdown",
      "metadata": {
        "id": "view-in-github",
        "colab_type": "text"
      },
      "source": [
        "<a href=\"https://colab.research.google.com/github/Zhr-Srj/TripSimAcin-AMR/blob/main/Code/TripSimAcin_AMR_PerDrug.ipynb\" target=\"_parent\"><img src=\"https://colab.research.google.com/assets/colab-badge.svg\" alt=\"Open In Colab\"/></a>"
      ]
    },
    {
      "cell_type": "markdown",
      "source": [
        "In this notebook we want to assess framework's performance on strain-aside-set (unseen strains) per drug.\n",
        "\n",
        "This file includes results mentioned in file Figure 5 in article."
      ],
      "metadata": {
        "id": "J8i6wIyODsRa"
      }
    },
    {
      "cell_type": "markdown",
      "source": [
        "# Required packages"
      ],
      "metadata": {
        "id": "TEVrK4Qa1_yY"
      }
    },
    {
      "cell_type": "code",
      "source": [
        "import csv\n",
        "import numpy as np\n",
        "import pandas as pd\n",
        "import seaborn as sns\n",
        "import tensorflow as tf\n",
        "import random\n",
        "from random import sample, shuffle\n",
        "\n",
        "from sklearn.utils import shuffle as sk_shuffle\n",
        "\n",
        "import matplotlib.pyplot as plt\n",
        "\n",
        "from sklearn.model_selection import train_test_split\n",
        "from sklearn.metrics import roc_auc_score, confusion_matrix, accuracy_score, f1_score\n",
        "from sklearn.model_selection import KFold\n",
        "from sklearn.metrics import roc_curve, precision_recall_curve, average_precision_score\n",
        "from sklearn.metrics import auc as sk_auc\n",
        "\n",
        "\n",
        "from tensorflow.keras.layers import Input, Dense, Dropout, Concatenate\n",
        "from tensorflow.keras.models import Model\n",
        "from tensorflow.keras.optimizers import Adam\n",
        "from tensorflow.keras.metrics import AUC\n",
        "from tensorflow.keras.layers import BatchNormalization\n",
        "from tensorflow.keras.layers import LayerNormalization\n",
        "from tensorflow.keras.callbacks import  History"
      ],
      "metadata": {
        "id": "rckjc19QzscK"
      },
      "execution_count": null,
      "outputs": []
    },
    {
      "cell_type": "markdown",
      "source": [
        "# Data"
      ],
      "metadata": {
        "id": "Qus1MAn3JJ-H"
      }
    },
    {
      "cell_type": "markdown",
      "source": [
        "## Loading dataset with SHAP selected features"
      ],
      "metadata": {
        "id": "OD0Zpl-Q2ILI"
      }
    },
    {
      "cell_type": "code",
      "source": [
        "with open(r'/content/drive/MyDrive/Dataset_SHAP_u.txt') as f:\n",
        "    data = []\n",
        "    for line in f.readlines():\n",
        "        row = []\n",
        "        for elem in line.split(sep=','):\n",
        "            row.append(int(elem.strip()))\n",
        "        data.append(row)\n",
        "print(len(data))\n",
        "print(len(data[0]))"
      ],
      "metadata": {
        "id": "sGuGTtRvn-9O",
        "colab": {
          "base_uri": "https://localhost:8080/"
        },
        "outputId": "a6233654-bcdd-4abe-a0b0-6b2ca7069961"
      },
      "execution_count": null,
      "outputs": [
        {
          "output_type": "stream",
          "name": "stdout",
          "text": [
            "7207\n",
            "2996\n"
          ]
        }
      ]
    },
    {
      "cell_type": "code",
      "source": [
        "#Reading phenotypes file\n",
        "with open(r'/content/drive/MyDrive/DrugLabel_SHAP_u.txt') as fy:\n",
        "    labels = []\n",
        "    drugs = [] #stores drug name in each row\n",
        "    row = 0 # row number of each label (is needed because data is reordered while spliting)\n",
        "    reader = csv.reader(fy)\n",
        "    for i in reader:\n",
        "        labels.append([row, int(i[1])])\n",
        "        drugs.append(i[0])\n",
        "        row += 1\n",
        "\n",
        "print(len(labels))\n",
        "print(len(drugs))\n",
        "print(labels[:5])"
      ],
      "metadata": {
        "colab": {
          "base_uri": "https://localhost:8080/"
        },
        "outputId": "ce1eb56b-f1c2-47af-99ab-6eae28456a69",
        "id": "XPyIJJ6Kn-9q"
      },
      "execution_count": null,
      "outputs": [
        {
          "output_type": "stream",
          "name": "stdout",
          "text": [
            "7207\n",
            "7207\n",
            "[[0, 1], [1, 0], [2, 0], [3, 1], [4, 1]]\n"
          ]
        }
      ]
    },
    {
      "cell_type": "code",
      "source": [
        "labels = np.asarray(labels)"
      ],
      "metadata": {
        "id": "8gEA0s58odLV"
      },
      "execution_count": null,
      "outputs": []
    },
    {
      "cell_type": "markdown",
      "source": [
        "## A survey on data"
      ],
      "metadata": {
        "id": "h9gvqsP-pk8D"
      }
    },
    {
      "cell_type": "code",
      "source": [
        "unq_drugs = set(drugs)\n",
        "len(unq_drugs)"
      ],
      "metadata": {
        "colab": {
          "base_uri": "https://localhost:8080/"
        },
        "id": "JrGsAYvzpnp9",
        "outputId": "99be4d72-8dbd-42f2-dd0f-75732462cb6f"
      },
      "execution_count": null,
      "outputs": [
        {
          "output_type": "execute_result",
          "data": {
            "text/plain": [
              "12"
            ]
          },
          "metadata": {},
          "execution_count": 20
        }
      ]
    },
    {
      "cell_type": "code",
      "source": [
        "per_drug_dic = {}\n",
        "for i, drug in enumerate(drugs_unique):\n",
        "  if drug not in per_drug_dic.keys():\n",
        "    per_drug_dic[drug] = [0, 0]  # num of resistant, num of susceptible\n",
        "  if labels[i][1] == 0:\n",
        "    per_drug_dic[drug][1] += 1\n",
        "  else:\n",
        "    per_drug_dic[drug][0] += 1\n",
        "\n",
        "per_drug_dic"
      ],
      "metadata": {
        "colab": {
          "base_uri": "https://localhost:8080/"
        },
        "id": "scPVCQ5Spve8",
        "outputId": "36c89be4-0170-47b4-b6ac-e0e583d848c8"
      },
      "execution_count": null,
      "outputs": [
        {
          "output_type": "execute_result",
          "data": {
            "text/plain": [
              "{'ciprofloxacin': [547, 201],\n",
              " 'doripenem': [144, 55],\n",
              " 'gentamicin': [491, 175],\n",
              " 'tetracycline': [492, 201],\n",
              " 'cefotaxime': [438, 161],\n",
              " 'meropenem': [242, 96],\n",
              " 'imipenem': [482, 222],\n",
              " 'amikacin': [485, 209],\n",
              " 'levofloxacin': [438, 167],\n",
              " 'ceftriaxone': [486, 181],\n",
              " 'ceftazidime': [440, 191],\n",
              " 'moxifloxacin': [60, 26]}"
            ]
          },
          "metadata": {},
          "execution_count": 21
        }
      ]
    },
    {
      "cell_type": "code",
      "source": [
        "keys = []\n",
        "for element in data:\n",
        "  if np.asarray(element[:2693]).tobytes() not in keys:\n",
        "    keys.append(np.asarray(element[:2693]).tobytes())\n",
        "\n",
        "print(\"Number of strains in dataset\", len(keys))"
      ],
      "metadata": {
        "colab": {
          "base_uri": "https://localhost:8080/"
        },
        "id": "sPT2BSBz9nlb",
        "outputId": "7519c524-76c6-4181-dd4a-cf9c8565cc60"
      },
      "execution_count": null,
      "outputs": [
        {
          "output_type": "stream",
          "name": "stdout",
          "text": [
            "Number of strains in dataset 766\n"
          ]
        }
      ]
    },
    {
      "cell_type": "markdown",
      "source": [
        "## Loading strain-aside dataset"
      ],
      "metadata": {
        "id": "j6M19KV4SS8T"
      }
    },
    {
      "cell_type": "code",
      "source": [
        "f1 = open(r'/content/drive/MyDrive/Strain_aside_Dataset_SHAP.txt')\n",
        "\n",
        "external_test_set = []\n",
        "\n",
        "for line in f1.readlines():\n",
        "    row = []\n",
        "    for elem in line.split(sep=','):\n",
        "        row.append(int(elem.strip()))\n",
        "    external_test_set.append(row)\n",
        "\n",
        "print(len(external_test_set))\n",
        "print(len(external_test_set[0]))\n",
        "\n",
        "f1.close()"
      ],
      "metadata": {
        "colab": {
          "base_uri": "https://localhost:8080/"
        },
        "id": "H3cSqS7e-sJZ",
        "outputId": "1c6fdf67-c153-402a-97df-0cb96ae53b38"
      },
      "execution_count": null,
      "outputs": [
        {
          "output_type": "stream",
          "name": "stdout",
          "text": [
            "1371\n",
            "2996\n"
          ]
        }
      ]
    },
    {
      "cell_type": "code",
      "source": [
        "#Reading phenotypes file\n",
        "with open(r'/content/drive/MyDrive/Strain_aside_drugLabel_SHAP.txt') as fy:\n",
        "    external_test_labels = []\n",
        "    external_test_drugs = [] #stores drug name in each row\n",
        "    row = 0 # row number of each label (is needed because data is reordered while spliting)\n",
        "    reader = csv.reader(fy)\n",
        "    for i in reader:\n",
        "        external_test_labels.append([row, int(i[1])])\n",
        "        external_test_drugs.append(i[0])\n",
        "        row += 1\n",
        "\n",
        "print(len(external_test_labels))\n",
        "print(len(external_test_drugs))\n",
        "print(external_test_labels[:5])"
      ],
      "metadata": {
        "colab": {
          "base_uri": "https://localhost:8080/"
        },
        "outputId": "dcb50a23-f89b-4308-8df9-81206a717273",
        "id": "Fbwm1pRmu7Cu"
      },
      "execution_count": null,
      "outputs": [
        {
          "output_type": "stream",
          "name": "stdout",
          "text": [
            "1371\n",
            "1371\n",
            "[[0, 1], [1, 1], [2, 1], [3, 1], [4, 1]]\n"
          ]
        }
      ]
    },
    {
      "cell_type": "code",
      "source": [
        "external_test_labels = np.asarray(external_test_labels)"
      ],
      "metadata": {
        "id": "uhl-yWkqu7Cv"
      },
      "execution_count": null,
      "outputs": []
    },
    {
      "cell_type": "code",
      "source": [
        "len(set(external_test_drugs))"
      ],
      "metadata": {
        "colab": {
          "base_uri": "https://localhost:8080/"
        },
        "id": "ZGBQyNkJ1UHx",
        "outputId": "81952a62-aef2-4314-ee93-55a6c24cc520"
      },
      "execution_count": null,
      "outputs": [
        {
          "output_type": "execute_result",
          "data": {
            "text/plain": [
              "10"
            ]
          },
          "metadata": {},
          "execution_count": 26
        }
      ]
    },
    {
      "cell_type": "code",
      "source": [
        "set(external_test_drugs)"
      ],
      "metadata": {
        "colab": {
          "base_uri": "https://localhost:8080/"
        },
        "id": "eh59KuyN1ZnZ",
        "outputId": "e5e20a5a-87ea-4d38-ff53-c91265536b8f"
      },
      "execution_count": null,
      "outputs": [
        {
          "output_type": "execute_result",
          "data": {
            "text/plain": [
              "{'amikacin',\n",
              " 'cefotaxime',\n",
              " 'ceftazidime',\n",
              " 'ceftriaxone',\n",
              " 'ciprofloxacin',\n",
              " 'gentamicin',\n",
              " 'imipenem',\n",
              " 'levofloxacin',\n",
              " 'meropenem',\n",
              " 'tetracycline'}"
            ]
          },
          "metadata": {},
          "execution_count": 27
        }
      ]
    },
    {
      "cell_type": "code",
      "source": [
        "unq_drugs = set(external_test_drugs)\n",
        "len(unq_drugs)"
      ],
      "metadata": {
        "colab": {
          "base_uri": "https://localhost:8080/"
        },
        "outputId": "772c2943-7dce-4479-9afc-a43282a074e2",
        "id": "GV6C3H3Q1rTL"
      },
      "execution_count": null,
      "outputs": [
        {
          "output_type": "execute_result",
          "data": {
            "text/plain": [
              "10"
            ]
          },
          "metadata": {},
          "execution_count": 28
        }
      ]
    },
    {
      "cell_type": "code",
      "source": [
        "per_drug_dic = {}\n",
        "for i, drug in enumerate(external_test_drugs):\n",
        "  if drug not in per_drug_dic.keys():\n",
        "    per_drug_dic[drug] = [0, 0]  # num of resistant, num of susceptible\n",
        "  if external_test_labels[i][1] == 0:\n",
        "    per_drug_dic[drug][1] += 1\n",
        "  else:\n",
        "    per_drug_dic[drug][0] += 1\n",
        "\n",
        "per_drug_dic"
      ],
      "metadata": {
        "colab": {
          "base_uri": "https://localhost:8080/"
        },
        "outputId": "771545f4-5584-4e2f-e41e-67a522099d0e",
        "id": "cNiR_6r31rTN"
      },
      "execution_count": null,
      "outputs": [
        {
          "output_type": "execute_result",
          "data": {
            "text/plain": [
              "{'ciprofloxacin': [211, 23],\n",
              " 'gentamicin': [202, 35],\n",
              " 'ceftriaxone': [206, 4],\n",
              " 'amikacin': [181, 26],\n",
              " 'ceftazidime': [211, 14],\n",
              " 'meropenem': [75, 6],\n",
              " 'levofloxacin': [66, 6],\n",
              " 'imipenem': [75, 6],\n",
              " 'tetracycline': [14, 0],\n",
              " 'cefotaxime': [10, 0]}"
            ]
          },
          "metadata": {},
          "execution_count": 29
        }
      ]
    },
    {
      "cell_type": "markdown",
      "source": [
        "# Data preparation functions"
      ],
      "metadata": {
        "id": "9CbUcSN8rH55"
      }
    },
    {
      "cell_type": "code",
      "source": [
        "def make_balanced_triplets(samples, labels, drugs, num):\n",
        "  \"\"\"For each drug in drugs samples...\n",
        "  makes:\n",
        "  - n triplets which are both Susceptible to drug (S, S)\n",
        "  - n triplets which are (R, R)\n",
        "  - n triplets which are (S, R)\n",
        "  - n triplets which are (R, S)\n",
        "  \"\"\"\n",
        "  bac_shape = 2693\n",
        "\n",
        "  idx = {} # A dic containig indices of susceptible and resistant strain\n",
        "            # for each drug\n",
        "\n",
        "  triplet = [] # Made from samples which are not part of external_test_sets\n",
        "  triLabels = [] # Labels corresponding to triplets\n",
        "\n",
        "  unq_drugs = list(set(drugs))\n",
        "\n",
        "  for drug_name in unq_drugs:\n",
        "    drug_indx_S = []\n",
        "    drug_indx_R = []\n",
        "    for i in range(len(labels)):\n",
        "      j, l = labels[i][0], labels[i][1]\n",
        "      if drugs[j] == drug_name:\n",
        "        if l == 0:\n",
        "          drug_indx_S.append(i)\n",
        "        else:\n",
        "          drug_indx_R.append(i)\n",
        "    idx[(drug_name, 'S')] = drug_indx_S\n",
        "    idx[(drug_name, 'R')] = drug_indx_R\n",
        "\n",
        "  for drug in unq_drugs:\n",
        "\n",
        "    s_len = len(idx[(drug, 'S')])\n",
        "    r_len = len(idx[(drug, 'R')])\n",
        "    n = min(num, int(s_len*(s_len-1)/2), int(r_len*(r_len-1)/2))\n",
        "\n",
        "    ss = [(i, j) for i in idx[(drug, 'S')] for j in idx[(drug, 'S')] if j>i]\n",
        "    ss_sampled = sample(ss, n)\n",
        "\n",
        "    rr = [(i, j) for i in idx[(drug, 'R')] for j in idx[(drug, 'R')] if j>i]\n",
        "    rr_sampled = sample(rr, n)\n",
        "\n",
        "    rs = [(i, j) for i in idx[(drug, 'R')] for j in idx[(drug, 'S')]]\n",
        "    neg_samples = sample(rs, 2*n)\n",
        "    rs_sampled = neg_samples[:n]\n",
        "    sr_sampled = [(t[1], t[0]) for t in neg_samples[n:]]\n",
        "\n",
        "    for k in range(n):\n",
        "      # Making (S, S, d) triplets\n",
        "      triplet.append( samples[ss_sampled[k][0]][:bac_shape] + samples[ss_sampled[k][1]][:bac_shape] +\n",
        "                        samples[ss_sampled[k][0]][bac_shape:] )\n",
        "      triLabels.append([1, 0]) # 1: both phenos the same. First: 0, sencond? --> 0\n",
        "\n",
        "      # Making (R, R, d) triplets\n",
        "      triplet.append( samples[rr_sampled[k][0]][:bac_shape] + samples[rr_sampled[k][1]][:bac_shape] +\n",
        "                        samples[rr_sampled[k][0]][bac_shape:] )\n",
        "      triLabels.append([1, 1]) # 1: both phenos the same. First: 1, sencond? --> 1\n",
        "\n",
        "      # Making (R, S, d) triplets\n",
        "      triplet.append( samples[rs_sampled[k][0]][:bac_shape] + samples[rs_sampled[k][1]][:bac_shape] +\n",
        "                         samples[rs_sampled[k][0]][bac_shape:])\n",
        "      triLabels.append([0, 1]) # 0: phenos different. First: 1, sencond? --> 0\n",
        "\n",
        "      # Making (S, R, d) triplets\n",
        "      triplet.append( samples[sr_sampled[k][0]][:bac_shape] + samples[sr_sampled[k][1]][:bac_shape] +\n",
        "                         samples[sr_sampled[k][0]][bac_shape:])\n",
        "      triLabels.append([0, 0]) # 0: phenos different. First: 0, sencond? --> 1\n",
        "\n",
        "  return np.array(triplet), np.array(triLabels)"
      ],
      "metadata": {
        "id": "IN43ReUH_8WW"
      },
      "execution_count": null,
      "outputs": []
    },
    {
      "cell_type": "markdown",
      "source": [
        "# TripSimAcin-AMR framework"
      ],
      "metadata": {
        "id": "077a3ZqRHMVH"
      }
    },
    {
      "cell_type": "markdown",
      "source": [
        "## TSA-Net architecture"
      ],
      "metadata": {
        "id": "2Da27WDh2f1l"
      }
    },
    {
      "cell_type": "code",
      "execution_count": null,
      "metadata": {
        "id": "QVIzGYpFqWih"
      },
      "outputs": [],
      "source": [
        "def create_siamese_model(input_shape1, input_shape2, input_shape3):\n",
        "\n",
        "    right_input = Input(shape=input_shape2)\n",
        "    left_input = Input(shape=input_shape1)\n",
        "    third_input = Input(shape=input_shape3)\n",
        "\n",
        "    shared_layer1 = Dense(1024, activation='leaky_relu')\n",
        "    shared_layer2 = Dense(512, activation='leaky_relu')\n",
        "    shared_layer3 = Dense(256, activation='leaky_relu')\n",
        "    shared_bn = BatchNormalization() # shared batch normalization layer\n",
        "    drug_bn = BatchNormalization() # drug batch normalization layer\n",
        "\n",
        "    encoded_l = shared_layer1(left_input)\n",
        "    encoded_l = Dropout(0.2)(encoded_l)\n",
        "    encoded_l = shared_layer2(encoded_l)\n",
        "    encoded_l = Dropout(0.2)(encoded_l)\n",
        "    encoded_l = shared_layer3(encoded_l)\n",
        "    encoded_l = Dropout(0.2)(encoded_l)\n",
        "    encoded_l = shared_bn(encoded_l)\n",
        "\n",
        "    encoded_r = shared_layer1(right_input)\n",
        "    encoded_r = Dropout(0.2)(encoded_r)\n",
        "    encoded_r = shared_layer2(encoded_r)\n",
        "    encoded_r = Dropout(0.2)(encoded_r)\n",
        "    encoded_r = shared_layer3(encoded_r)\n",
        "    encoded_r = Dropout(0.2)(encoded_r)\n",
        "    encoded_r = shared_bn(encoded_r)\n",
        "\n",
        "    encoded_c = Dense(256, activation='leaky_relu')(third_input)\n",
        "    encoded_c = Dropout(0.2)(encoded_c)\n",
        "    encoded_c = drug_bn(encoded_c)\n",
        "\n",
        "    concatenated = Concatenate()([encoded_l, encoded_r, encoded_c])\n",
        "\n",
        "    dense1 = Dense(128, activation='leaky_relu')(concatenated)\n",
        "    dense1 = Dropout(0.2)(dense1)\n",
        "    dense2 = Dense(32, activation='leaky_relu')(dense1)\n",
        "    dense2 = Dropout(0.2)(dense2)\n",
        "    prediction = Dense(1, activation='sigmoid')(dense2)\n",
        "\n",
        "    siamese_net = Model(inputs=[left_input, right_input, third_input], outputs=prediction)\n",
        "\n",
        "    optimizer = Adam(learning_rate=0.001)\n",
        "    siamese_net.compile(loss='binary_crossentropy', optimizer=optimizer, metrics=[\"accuracy\", AUC(name='auc-roc')])\n",
        "\n",
        "    return siamese_net"
      ]
    },
    {
      "cell_type": "code",
      "source": [
        "input_shape1 = (2693,)\n",
        "input_shape2 = (2693,)\n",
        "input_shape3 = (303,)"
      ],
      "metadata": {
        "id": "auchLPhvqfNT"
      },
      "execution_count": null,
      "outputs": []
    },
    {
      "cell_type": "markdown",
      "source": [
        "# Evaluation"
      ],
      "metadata": {
        "id": "2PHFPgGt-QeZ"
      }
    },
    {
      "cell_type": "markdown",
      "source": [
        "## Functions"
      ],
      "metadata": {
        "id": "ikF_AXejKKog"
      }
    },
    {
      "cell_type": "code",
      "source": [
        "def evaluation(true_labels, pred_labels):\n",
        "\n",
        "  Dis_pred = []\n",
        "  for i in pred_labels:\n",
        "    if i < 0.5:\n",
        "      Dis_pred.append(0)\n",
        "    else:\n",
        "      Dis_pred.append(1)\n",
        "\n",
        "  acc = accuracy_score(true_labels, Dis_pred)\n",
        "  auc = roc_auc_score(true_labels, Dis_pred)\n",
        "  print('Accuracy: ', acc)\n",
        "  print('ROC-AUC: ', auc)\n",
        "\n",
        "  TN, FP, FN, TP = confusion_matrix(true_labels, Dis_pred, labels=[0, 1]).ravel()\n",
        "  sen = TP/(TP+FN)\n",
        "  spc = TN/(TN+FP)\n",
        "  print(\"Sensitivity: \", sen)\n",
        "  print('Specificity: ', spc)\n",
        "\n",
        "  print(\"# of TPs: \", TP)\n",
        "  print(\"# of FPs: \", FP)\n",
        "  print(\"# of TNs: \", TN)\n",
        "  print(\"# of FNs: \", FN)\n",
        "\n",
        "  conf_matrix = confusion_matrix(true_labels, Dis_pred, labels=[0, 1])\n",
        "  plt.figure(figsize=(4, 4))\n",
        "  sns.heatmap(conf_matrix, annot=True, fmt='d', cmap='Blues', cbar=False,\n",
        "              xticklabels=['Predicted Negative', 'Predicted Positive'],\n",
        "              yticklabels=['True Negative', 'True Positive'])\n",
        "  plt.xlabel('Predicted')\n",
        "  plt.ylabel('Actual')\n",
        "  plt.title('Confusion Matrix')\n",
        "  plt.show()\n",
        "\n",
        "  return acc, auc, sen, spc, TN, FP, FN, TP"
      ],
      "metadata": {
        "id": "yiCoHbLdZhG0"
      },
      "execution_count": null,
      "outputs": []
    },
    {
      "cell_type": "code",
      "execution_count": null,
      "metadata": {
        "id": "9K0oqBjwpkwf"
      },
      "outputs": [],
      "source": [
        "def EvalPerDrug(y_test, y_pred, indices, drugs, cutoff=0.5):\n",
        "\n",
        "  acc = []\n",
        "  auc = []\n",
        "  sen = []\n",
        "  spe = []\n",
        "  TNs = []\n",
        "  FPs = []\n",
        "  FNs = []\n",
        "  TPs = []\n",
        "\n",
        "  Dis_Pred=[]\n",
        "  for i in range(len(y_pred)):\n",
        "    if (y_pred[i]>cutoff):\n",
        "      Dis_Pred.append(1)\n",
        "    else:\n",
        "      Dis_Pred.append(0)\n",
        "  y_pred=np.array(Dis_Pred)\n",
        "\n",
        "  drug_list = []\n",
        "  for i in indices:\n",
        "    drug_list.append( drugs[i] )\n",
        "\n",
        "  unq_drugs = sorted( list(set(drug_list)) )\n",
        "\n",
        "  for drug in unq_drugs:\n",
        "    current_test = []\n",
        "    current_pred = []\n",
        "    #*********************************\n",
        "    for i in range(len(y_pred)):\n",
        "      if drugs[indices[i]] == drug:\n",
        "        current_test.append(y_test[i])\n",
        "        current_pred.append(y_pred[i])\n",
        "\n",
        "    current_test = np.array(current_test)\n",
        "\n",
        "    acc.append(accuracy_score(current_test, current_pred))\n",
        "    auc.append(roc_auc_score(current_test, current_pred))\n",
        "\n",
        "    TN, FP, FN, TP = confusion_matrix(current_test, current_pred, labels=[0, 1]).ravel()\n",
        "\n",
        "    sen.append(TP/(TP+FN))\n",
        "    spe.append(TN/(TN+FP))\n",
        "\n",
        "    TNs.append(TN)\n",
        "    TPs.append(TP)\n",
        "    FPs.append(FP)\n",
        "    FNs.append(FN)\n",
        "\n",
        "  return unq_drugs, acc, auc, sen, spe, TNs, FPs, FNs, TPs"
      ]
    },
    {
      "cell_type": "code",
      "source": [
        "def plot_curves(true_labels, pred_labels):\n",
        "\n",
        "  # Compute ROC curve and ROC area\n",
        "  fpr, tpr, _ = roc_curve(true_labels, pred_labels)\n",
        "  roc_auc = sk_auc(fpr, tpr)\n",
        "\n",
        "  # Compute Precision-Recall curve and average precision\n",
        "  precision, recall, _ = precision_recall_curve(true_labels, pred_labels)\n",
        "  average_precision = average_precision_score(true_labels, pred_labels)\n",
        "\n",
        "  # Plot and save ROC curve\n",
        "  plt.figure()\n",
        "  plt.plot(fpr, tpr, color='darkorange', lw=2, label='ROC curve (area = %0.2f)' % roc_auc)\n",
        "  plt.plot([0, 1], [0, 1], color='navy', lw=2, linestyle='--')\n",
        "  plt.xlim([0.0, 1.0])\n",
        "  plt.ylim([0.0, 1.05])\n",
        "  plt.xlabel('False Positive Rate')\n",
        "  plt.ylabel('True Positive Rate')\n",
        "  plt.title('Receiver Operating Characteristic Curve')\n",
        "  plt.legend(loc=\"lower right\")\n",
        "  plt.savefig('/content/drive/MyDrive/roc_curve.png')  # Save the ROC curve as a PNG file\n",
        "  plt.show()\n",
        "\n",
        "  # Plot and save Precision-Recall curve\n",
        "  plt.figure()\n",
        "  plt.plot(recall, precision, color='blue', lw=2, label='PR curve (area = %0.2f)' % average_precision)\n",
        "  plt.xlabel('Recall')\n",
        "  plt.ylabel('Precision')\n",
        "  plt.title('Precision-Recall Curve')\n",
        "  plt.legend(loc=\"lower left\")\n",
        "  plt.savefig('/content/drive/MyDrive/pr_curve.png')  # Save the PR curve as a PNG file\n",
        "  plt.show()"
      ],
      "metadata": {
        "id": "0hpC8w89N_O2"
      },
      "execution_count": null,
      "outputs": []
    },
    {
      "cell_type": "code",
      "source": [
        "def ExternalTest(x0_test,x1_test,x0_train,x1_train):\n",
        "  \"\"\"\n",
        "  Takes as input paired data and\n",
        "  makes each test sample pair with train samples of the same drug (triplet --> b1, b2, d).\n",
        "  x0_test: test samples with phenotype 0\n",
        "  x1_test: test samples with phenotype 1\n",
        "  x0_train: train samples with phenotype 0\n",
        "  x1_train: train samples with phenotype 1\n",
        "  \"\"\"\n",
        "  dataset_test1=[] # concat train\n",
        "  label_test1=[]\n",
        "  Indexsample=[]\n",
        "\n",
        "  for i in range(len(x0_test)):\n",
        "    for j in range(len(x0_train)):\n",
        "      if (x0_test[i][2693:] == x0_train[j][2693:]).all():\n",
        "        dataset_test1.append(np.concatenate((x0_test[i][0:2693],x0_train[j]), axis=None))\n",
        "        label_test1.append(1)\n",
        "        Indexsample.append(str(i)+\",0,0\")   #index in test, x0_test pheno, x0_train pheno\n",
        "  # print(len(dataset_test1))\n",
        "  # print('0-0 acomplished')\n",
        "\n",
        "  for i in range(len(x0_test)):\n",
        "    for j in range(len(x1_train)):\n",
        "      if (x0_test[i][2693:] == x1_train[j][2693:]).all():\n",
        "        dataset_test1.append(np.concatenate((x0_test[i][0:2693],x1_train[j]), axis=None))\n",
        "        label_test1.append(0)\n",
        "        Indexsample.append(str(i)+\",0,1\")   #index in test, x0_test pheno, x1_train pheno\n",
        "  # print(len(dataset_test1))\n",
        "  # print('0-1 acomplished')\n",
        "\n",
        "  for i in range(len(x1_test)):\n",
        "    for j in range(len(x0_train)):\n",
        "      if (x1_test[i][2693:] == x0_train[j][2693:]).all():\n",
        "        dataset_test1.append(np.concatenate((x1_test[i][0:2693],x0_train[j]), axis=None))\n",
        "        label_test1.append(0)\n",
        "        Indexsample.append(str(i)+\",1,0\")  #index in test,x1_test,x0_train\n",
        "  # print(len(dataset_test1))\n",
        "  # print('1-0 acomplished')\n",
        "\n",
        "  for i in range(len(x1_test)):\n",
        "    for j in range(len(x1_train)):\n",
        "      if (x1_test[i][2693:] == x1_train[j][2693:]).all():\n",
        "        dataset_test1.append(np.concatenate((x1_test[i][0:2693],x1_train[j]), axis=None))\n",
        "        label_test1.append(1)\n",
        "        Indexsample.append(str(i)+\",1,1\")  #index in test,x1_test,x1_train\n",
        "\n",
        "  return (np.asarray(dataset_test1), np.asarray(label_test1), Indexsample)"
      ],
      "metadata": {
        "id": "82LeV2joK_GF"
      },
      "execution_count": null,
      "outputs": []
    },
    {
      "cell_type": "code",
      "source": [
        "def DefineTest2(x0_test, x1_test, Indexsample, y_pred):\n",
        "  \"\"\"\n",
        "  Aggregates labels predicted by TSA_Net to get a unified prediction of resistence\n",
        "  phenotype (Desired output for TripSimAcin_AMR)\n",
        "  \"\"\"\n",
        "  Pred=[]\n",
        "  Label=[]\n",
        "\n",
        "  # START of x0_test\n",
        "  for i in range(len(x0_test)):\n",
        "    cnt0Pred=0\n",
        "    cnt1Pred=0\n",
        "    cnt1=0\n",
        "    cnt0=0\n",
        "\n",
        "    for j in range(len(Indexsample)):\n",
        "      triplet=Indexsample[j].split(\",\")   #pair[0] is index from test, pair[1] identifies which test x0_test or s1_test, pair[2] identifies which x0\n",
        "      if int(triplet[0])==i: #index test\n",
        "        if int(triplet[1])==0: #type test\n",
        "\n",
        "          if int(triplet[2])==1: #type train\n",
        "              cnt1Pred=cnt1Pred+y_pred[j]\n",
        "              cnt1=cnt1+1\n",
        "\n",
        "          if int(triplet[2])==0: #type train\n",
        "              cnt0Pred=cnt0Pred+y_pred[j]\n",
        "              cnt0=cnt0+1\n",
        "\n",
        "    pos=(1-(cnt0Pred/cnt0))+(cnt1Pred/cnt1)\n",
        "    neg=(cnt0Pred/cnt0)+(1-(cnt1Pred/cnt1))\n",
        "    Pred.append(pos/(pos+neg))\n",
        "    Label.append(0)\n",
        "\n",
        "  # END of x0_test\n",
        "  ######################################################\n",
        "  # START of x1_test\n",
        "  for i in range(len(x1_test)):\n",
        "    cnt0Pred=0\n",
        "    cnt1Pred=0\n",
        "    cnt1=0\n",
        "    cnt0=0\n",
        "    for j in range(len(Indexsample)):\n",
        "      triplet=Indexsample[j].split(\",\")   #pair[0] is index from test, pair[1] identifies which test x0_test or s1_test, pair[2] identifies which x0\n",
        "      if int(triplet[0])==i: #index test\n",
        "        if int(triplet[1])==1: #type test\n",
        "\n",
        "          if int(triplet[2])==0: #type train\n",
        "              cnt0Pred=cnt0Pred+y_pred[j]\n",
        "              cnt0=cnt0+1\n",
        "\n",
        "          if int(triplet[2])==1: #type train\n",
        "              cnt1Pred=cnt1Pred+y_pred[j]\n",
        "              cnt1=cnt1+1\n",
        "\n",
        "    pos=(1-(cnt0Pred/cnt0))+(cnt1Pred/cnt1)\n",
        "    neg=(cnt0Pred/cnt0)+(1-(cnt1Pred/cnt1))\n",
        "    Pred.append(pos/(pos+neg))\n",
        "    Label.append(1)\n",
        "\n",
        "  return(Pred,Label)"
      ],
      "metadata": {
        "id": "LOtG2QcOLSsV"
      },
      "execution_count": null,
      "outputs": []
    },
    {
      "cell_type": "code",
      "source": [
        "def RS_splitter(data, labels):\n",
        "  \"\"\"\n",
        "  Takes as input a dataset and corresponding labels\n",
        "  returns data0, data1\n",
        "  which are set of susceptible and resistant strains in data, respectively\n",
        "  \"\"\"\n",
        "  data0 = [] # list of susceptible strains' features\n",
        "  data1 = [] # list of resistant strains' features\n",
        "  index0 = [] # indices in original data\n",
        "  index1 = [] # indices in original data\n",
        "\n",
        "  for i, l in enumerate(labels):\n",
        "    if l[1] == 0:\n",
        "      data0.append(data[i])\n",
        "      index0.append(l[0])\n",
        "    else:\n",
        "      data1.append(data[i])\n",
        "      index1.append(l[0])\n",
        "\n",
        "  return data0, data1, index0, index1"
      ],
      "metadata": {
        "id": "gB2_ajRi68VS"
      },
      "execution_count": null,
      "outputs": []
    },
    {
      "cell_type": "code",
      "source": [
        "# Making triplets\n",
        "triplet, pairedLabels =  make_balanced_triplets(data, labels, drugs, 400)"
      ],
      "metadata": {
        "id": "ItTE2yOpJ-0x"
      },
      "execution_count": null,
      "outputs": []
    },
    {
      "cell_type": "code",
      "source": [
        "print(len(triplet))\n",
        "print(len(triplet[0]))\n",
        "print(len(pairedLabels))\n",
        "print(pairedLabels[0])"
      ],
      "metadata": {
        "id": "uxeHX6Q3FnTD",
        "colab": {
          "base_uri": "https://localhost:8080/"
        },
        "outputId": "cf3dbd7c-a4e9-4999-8a69-c53d1afdb655"
      },
      "execution_count": null,
      "outputs": [
        {
          "output_type": "stream",
          "name": "stdout",
          "text": [
            "19200\n",
            "5689\n",
            "19200\n",
            "[1 0]\n"
          ]
        }
      ]
    },
    {
      "cell_type": "markdown",
      "source": [
        "Preparing data"
      ],
      "metadata": {
        "id": "xxr64jm3AlQt"
      }
    },
    {
      "cell_type": "code",
      "source": [
        "triplet = np.asarray(triplet)\n",
        "triplet.shape"
      ],
      "metadata": {
        "id": "xJy6IS4J68ms",
        "colab": {
          "base_uri": "https://localhost:8080/"
        },
        "outputId": "d02ea9d3-ab6a-4312-8f3e-39d8bbc5bfb2"
      },
      "execution_count": null,
      "outputs": [
        {
          "output_type": "execute_result",
          "data": {
            "text/plain": [
              "(19200, 5689)"
            ]
          },
          "metadata": {},
          "execution_count": 42
        }
      ]
    },
    {
      "cell_type": "code",
      "source": [
        "pairedLabels = np.asarray(pairedLabels)\n",
        "pairedLabels.shape"
      ],
      "metadata": {
        "id": "7aBdNjJPvx3C",
        "colab": {
          "base_uri": "https://localhost:8080/"
        },
        "outputId": "7d9a739d-f27a-4679-ce5f-8aa5c70f3c54"
      },
      "execution_count": null,
      "outputs": [
        {
          "output_type": "execute_result",
          "data": {
            "text/plain": [
              "(19200, 2)"
            ]
          },
          "metadata": {},
          "execution_count": 43
        }
      ]
    },
    {
      "cell_type": "markdown",
      "source": [
        "Training"
      ],
      "metadata": {
        "id": "8--mOgDrAo2C"
      }
    },
    {
      "cell_type": "code",
      "source": [
        "siamese_net = create_siamese_model(input_shape1, input_shape2, input_shape3)"
      ],
      "metadata": {
        "id": "K2BdnQeJqnGf"
      },
      "execution_count": null,
      "outputs": []
    },
    {
      "cell_type": "code",
      "source": [
        "num_epochs=10\n",
        "history=History()\n",
        "siamese_net = create_siamese_model(input_shape1, input_shape2, input_shape3)\n",
        "\n",
        "print(\"Round: 1 ---> 1-10\")\n",
        "history = siamese_net.fit([[triplet[:, :2693],\n",
        "                           triplet[:, 2693:(2693+2693)]],\n",
        "                           triplet[:, (2693+2693):]], pairedLabels[:, 0],\n",
        "                          epochs=num_epochs, batch_size=64, verbose=1, callbacks=history)\n",
        "\n",
        "for i in range(20-1):\n",
        "  print(\"Round: \", i+2, '--->', (i+1)*10+1, '-', (i+2)*10)\n",
        "\n",
        "  triplet, pairedLabels =  make_balanced_triplets(data, labels, drugs, 400)\n",
        "\n",
        "  history = siamese_net.fit([[triplet[:, :2693],\n",
        "                           triplet[:, 2693:(2693+2693)]],\n",
        "                           triplet[:, (2693+2693):]], pairedLabels[:, 0],\n",
        "                          epochs=num_epochs, batch_size=64, verbose=1, callbacks=history)"
      ],
      "metadata": {
        "id": "O15fh_OmqpfN",
        "colab": {
          "base_uri": "https://localhost:8080/"
        },
        "outputId": "44500018-6158-4b35-b583-55cc0bbb8550"
      },
      "execution_count": null,
      "outputs": [
        {
          "output_type": "stream",
          "name": "stdout",
          "text": [
            "Round: 1 ---> 1-10\n",
            "Epoch 1/10\n"
          ]
        },
        {
          "output_type": "stream",
          "name": "stderr",
          "text": [
            "/usr/local/lib/python3.11/dist-packages/keras/src/models/functional.py:237: UserWarning: The structure of `inputs` doesn't match the expected structure.\n",
            "Expected: ['keras_tensor_79', 'keras_tensor_78', 'keras_tensor_80']\n",
            "Received: inputs=(('Tensor(shape=(64, 2693))', 'Tensor(shape=(64, 2693))'), 'Tensor(shape=(64, 303))')\n",
            "  warnings.warn(msg)\n"
          ]
        },
        {
          "output_type": "stream",
          "name": "stdout",
          "text": [
            "\u001b[1m300/300\u001b[0m \u001b[32m━━━━━━━━━━━━━━━━━━━━\u001b[0m\u001b[37m\u001b[0m \u001b[1m13s\u001b[0m 7ms/step - accuracy: 0.4975 - auc-roc: 0.4902 - loss: 0.8082\n",
            "Epoch 2/10\n",
            "\u001b[1m300/300\u001b[0m \u001b[32m━━━━━━━━━━━━━━━━━━━━\u001b[0m\u001b[37m\u001b[0m \u001b[1m3s\u001b[0m 6ms/step - accuracy: 0.5000 - auc-roc: 0.5040 - loss: 0.7090\n",
            "Epoch 3/10\n",
            "\u001b[1m300/300\u001b[0m \u001b[32m━━━━━━━━━━━━━━━━━━━━\u001b[0m\u001b[37m\u001b[0m \u001b[1m2s\u001b[0m 6ms/step - accuracy: 0.5056 - auc-roc: 0.5103 - loss: 0.7020\n",
            "Epoch 4/10\n",
            "\u001b[1m300/300\u001b[0m \u001b[32m━━━━━━━━━━━━━━━━━━━━\u001b[0m\u001b[37m\u001b[0m \u001b[1m2s\u001b[0m 6ms/step - accuracy: 0.5468 - auc-roc: 0.5813 - loss: 0.6704\n",
            "Epoch 5/10\n",
            "\u001b[1m300/300\u001b[0m \u001b[32m━━━━━━━━━━━━━━━━━━━━\u001b[0m\u001b[37m\u001b[0m \u001b[1m3s\u001b[0m 8ms/step - accuracy: 0.7380 - auc-roc: 0.8370 - loss: 0.4905\n",
            "Epoch 6/10\n",
            "\u001b[1m300/300\u001b[0m \u001b[32m━━━━━━━━━━━━━━━━━━━━\u001b[0m\u001b[37m\u001b[0m \u001b[1m2s\u001b[0m 8ms/step - accuracy: 0.7695 - auc-roc: 0.8626 - loss: 0.4569\n",
            "Epoch 7/10\n",
            "\u001b[1m300/300\u001b[0m \u001b[32m━━━━━━━━━━━━━━━━━━━━\u001b[0m\u001b[37m\u001b[0m \u001b[1m2s\u001b[0m 6ms/step - accuracy: 0.7894 - auc-roc: 0.8807 - loss: 0.4356\n",
            "Epoch 8/10\n",
            "\u001b[1m300/300\u001b[0m \u001b[32m━━━━━━━━━━━━━━━━━━━━\u001b[0m\u001b[37m\u001b[0m \u001b[1m2s\u001b[0m 6ms/step - accuracy: 0.8123 - auc-roc: 0.8978 - loss: 0.4049\n",
            "Epoch 9/10\n",
            "\u001b[1m300/300\u001b[0m \u001b[32m━━━━━━━━━━━━━━━━━━━━\u001b[0m\u001b[37m\u001b[0m \u001b[1m2s\u001b[0m 6ms/step - accuracy: 0.8310 - auc-roc: 0.9153 - loss: 0.3693\n",
            "Epoch 10/10\n",
            "\u001b[1m300/300\u001b[0m \u001b[32m━━━━━━━━━━━━━━━━━━━━\u001b[0m\u001b[37m\u001b[0m \u001b[1m2s\u001b[0m 6ms/step - accuracy: 0.8404 - auc-roc: 0.9250 - loss: 0.3484\n",
            "Round:  2 ---> 11 - 20\n",
            "Epoch 1/10\n",
            "\u001b[1m300/300\u001b[0m \u001b[32m━━━━━━━━━━━━━━━━━━━━\u001b[0m\u001b[37m\u001b[0m \u001b[1m2s\u001b[0m 6ms/step - accuracy: 0.8413 - auc-roc: 0.9260 - loss: 0.3471\n",
            "Epoch 2/10\n",
            "\u001b[1m300/300\u001b[0m \u001b[32m━━━━━━━━━━━━━━━━━━━━\u001b[0m\u001b[37m\u001b[0m \u001b[1m2s\u001b[0m 6ms/step - accuracy: 0.8585 - auc-roc: 0.9377 - loss: 0.3194\n",
            "Epoch 3/10\n",
            "\u001b[1m300/300\u001b[0m \u001b[32m━━━━━━━━━━━━━━━━━━━━\u001b[0m\u001b[37m\u001b[0m \u001b[1m2s\u001b[0m 8ms/step - accuracy: 0.8636 - auc-roc: 0.9433 - loss: 0.3047\n",
            "Epoch 4/10\n",
            "\u001b[1m300/300\u001b[0m \u001b[32m━━━━━━━━━━━━━━━━━━━━\u001b[0m\u001b[37m\u001b[0m \u001b[1m2s\u001b[0m 8ms/step - accuracy: 0.8589 - auc-roc: 0.9410 - loss: 0.3090\n",
            "Epoch 5/10\n",
            "\u001b[1m300/300\u001b[0m \u001b[32m━━━━━━━━━━━━━━━━━━━━\u001b[0m\u001b[37m\u001b[0m \u001b[1m2s\u001b[0m 7ms/step - accuracy: 0.8679 - auc-roc: 0.9483 - loss: 0.2889\n",
            "Epoch 6/10\n",
            "\u001b[1m300/300\u001b[0m \u001b[32m━━━━━━━━━━━━━━━━━━━━\u001b[0m\u001b[37m\u001b[0m \u001b[1m2s\u001b[0m 7ms/step - accuracy: 0.8664 - auc-roc: 0.9482 - loss: 0.2894\n",
            "Epoch 7/10\n",
            "\u001b[1m300/300\u001b[0m \u001b[32m━━━━━━━━━━━━━━━━━━━━\u001b[0m\u001b[37m\u001b[0m \u001b[1m2s\u001b[0m 7ms/step - accuracy: 0.8733 - auc-roc: 0.9516 - loss: 0.2808\n",
            "Epoch 8/10\n",
            "\u001b[1m300/300\u001b[0m \u001b[32m━━━━━━━━━━━━━━━━━━━━\u001b[0m\u001b[37m\u001b[0m \u001b[1m2s\u001b[0m 6ms/step - accuracy: 0.8755 - auc-roc: 0.9543 - loss: 0.2723\n",
            "Epoch 9/10\n",
            "\u001b[1m300/300\u001b[0m \u001b[32m━━━━━━━━━━━━━━━━━━━━\u001b[0m\u001b[37m\u001b[0m \u001b[1m3s\u001b[0m 8ms/step - accuracy: 0.8826 - auc-roc: 0.9585 - loss: 0.2597\n",
            "Epoch 10/10\n",
            "\u001b[1m300/300\u001b[0m \u001b[32m━━━━━━━━━━━━━━━━━━━━\u001b[0m\u001b[37m\u001b[0m \u001b[1m2s\u001b[0m 8ms/step - accuracy: 0.8865 - auc-roc: 0.9605 - loss: 0.2535\n",
            "Round:  3 ---> 21 - 30\n",
            "Epoch 1/10\n",
            "\u001b[1m300/300\u001b[0m \u001b[32m━━━━━━━━━━━━━━━━━━━━\u001b[0m\u001b[37m\u001b[0m \u001b[1m2s\u001b[0m 8ms/step - accuracy: 0.8856 - auc-roc: 0.9593 - loss: 0.2580\n",
            "Epoch 2/10\n",
            "\u001b[1m300/300\u001b[0m \u001b[32m━━━━━━━━━━━━━━━━━━━━\u001b[0m\u001b[37m\u001b[0m \u001b[1m2s\u001b[0m 8ms/step - accuracy: 0.8939 - auc-roc: 0.9650 - loss: 0.2396\n",
            "Epoch 3/10\n",
            "\u001b[1m300/300\u001b[0m \u001b[32m━━━━━━━━━━━━━━━━━━━━\u001b[0m\u001b[37m\u001b[0m \u001b[1m2s\u001b[0m 6ms/step - accuracy: 0.8986 - auc-roc: 0.9655 - loss: 0.2379\n",
            "Epoch 4/10\n",
            "\u001b[1m300/300\u001b[0m \u001b[32m━━━━━━━━━━━━━━━━━━━━\u001b[0m\u001b[37m\u001b[0m \u001b[1m3s\u001b[0m 6ms/step - accuracy: 0.8907 - auc-roc: 0.9646 - loss: 0.2398\n",
            "Epoch 5/10\n",
            "\u001b[1m300/300\u001b[0m \u001b[32m━━━━━━━━━━━━━━━━━━━━\u001b[0m\u001b[37m\u001b[0m \u001b[1m2s\u001b[0m 6ms/step - accuracy: 0.8954 - auc-roc: 0.9661 - loss: 0.2351\n",
            "Epoch 6/10\n",
            "\u001b[1m300/300\u001b[0m \u001b[32m━━━━━━━━━━━━━━━━━━━━\u001b[0m\u001b[37m\u001b[0m \u001b[1m2s\u001b[0m 6ms/step - accuracy: 0.9006 - auc-roc: 0.9696 - loss: 0.2226\n",
            "Epoch 7/10\n",
            "\u001b[1m300/300\u001b[0m \u001b[32m━━━━━━━━━━━━━━━━━━━━\u001b[0m\u001b[37m\u001b[0m \u001b[1m2s\u001b[0m 7ms/step - accuracy: 0.9056 - auc-roc: 0.9711 - loss: 0.2176\n",
            "Epoch 8/10\n",
            "\u001b[1m300/300\u001b[0m \u001b[32m━━━━━━━━━━━━━━━━━━━━\u001b[0m\u001b[37m\u001b[0m \u001b[1m3s\u001b[0m 8ms/step - accuracy: 0.9054 - auc-roc: 0.9700 - loss: 0.2226\n",
            "Epoch 9/10\n",
            "\u001b[1m300/300\u001b[0m \u001b[32m━━━━━━━━━━━━━━━━━━━━\u001b[0m\u001b[37m\u001b[0m \u001b[1m2s\u001b[0m 7ms/step - accuracy: 0.9045 - auc-roc: 0.9707 - loss: 0.2196\n",
            "Epoch 10/10\n",
            "\u001b[1m300/300\u001b[0m \u001b[32m━━━━━━━━━━━━━━━━━━━━\u001b[0m\u001b[37m\u001b[0m \u001b[1m2s\u001b[0m 7ms/step - accuracy: 0.9162 - auc-roc: 0.9747 - loss: 0.2033\n",
            "Round:  4 ---> 31 - 40\n",
            "Epoch 1/10\n",
            "\u001b[1m300/300\u001b[0m \u001b[32m━━━━━━━━━━━━━━━━━━━━\u001b[0m\u001b[37m\u001b[0m \u001b[1m2s\u001b[0m 6ms/step - accuracy: 0.9060 - auc-roc: 0.9708 - loss: 0.2192\n",
            "Epoch 2/10\n",
            "\u001b[1m300/300\u001b[0m \u001b[32m━━━━━━━━━━━━━━━━━━━━\u001b[0m\u001b[37m\u001b[0m \u001b[1m3s\u001b[0m 6ms/step - accuracy: 0.9121 - auc-roc: 0.9742 - loss: 0.2050\n",
            "Epoch 3/10\n",
            "\u001b[1m300/300\u001b[0m \u001b[32m━━━━━━━━━━━━━━━━━━━━\u001b[0m\u001b[37m\u001b[0m \u001b[1m3s\u001b[0m 7ms/step - accuracy: 0.9116 - auc-roc: 0.9737 - loss: 0.2067\n",
            "Epoch 4/10\n",
            "\u001b[1m300/300\u001b[0m \u001b[32m━━━━━━━━━━━━━━━━━━━━\u001b[0m\u001b[37m\u001b[0m \u001b[1m2s\u001b[0m 6ms/step - accuracy: 0.9132 - auc-roc: 0.9758 - loss: 0.1994\n",
            "Epoch 5/10\n",
            "\u001b[1m300/300\u001b[0m \u001b[32m━━━━━━━━━━━━━━━━━━━━\u001b[0m\u001b[37m\u001b[0m \u001b[1m3s\u001b[0m 8ms/step - accuracy: 0.9200 - auc-roc: 0.9767 - loss: 0.1950\n",
            "Epoch 6/10\n",
            "\u001b[1m300/300\u001b[0m \u001b[32m━━━━━━━━━━━━━━━━━━━━\u001b[0m\u001b[37m\u001b[0m \u001b[1m2s\u001b[0m 7ms/step - accuracy: 0.9219 - auc-roc: 0.9778 - loss: 0.1907\n",
            "Epoch 7/10\n",
            "\u001b[1m300/300\u001b[0m \u001b[32m━━━━━━━━━━━━━━━━━━━━\u001b[0m\u001b[37m\u001b[0m \u001b[1m2s\u001b[0m 7ms/step - accuracy: 0.9210 - auc-roc: 0.9796 - loss: 0.1828\n",
            "Epoch 8/10\n",
            "\u001b[1m300/300\u001b[0m \u001b[32m━━━━━━━━━━━━━━━━━━━━\u001b[0m\u001b[37m\u001b[0m \u001b[1m3s\u001b[0m 7ms/step - accuracy: 0.9287 - auc-roc: 0.9808 - loss: 0.1773\n",
            "Epoch 9/10\n",
            "\u001b[1m300/300\u001b[0m \u001b[32m━━━━━━━━━━━━━━━━━━━━\u001b[0m\u001b[37m\u001b[0m \u001b[1m2s\u001b[0m 7ms/step - accuracy: 0.9273 - auc-roc: 0.9819 - loss: 0.1718\n",
            "Epoch 10/10\n",
            "\u001b[1m300/300\u001b[0m \u001b[32m━━━━━━━━━━━━━━━━━━━━\u001b[0m\u001b[37m\u001b[0m \u001b[1m2s\u001b[0m 7ms/step - accuracy: 0.9283 - auc-roc: 0.9822 - loss: 0.1686\n",
            "Round:  5 ---> 41 - 50\n",
            "Epoch 1/10\n",
            "\u001b[1m300/300\u001b[0m \u001b[32m━━━━━━━━━━━━━━━━━━━━\u001b[0m\u001b[37m\u001b[0m \u001b[1m2s\u001b[0m 6ms/step - accuracy: 0.9273 - auc-roc: 0.9797 - loss: 0.1820\n",
            "Epoch 2/10\n",
            "\u001b[1m300/300\u001b[0m \u001b[32m━━━━━━━━━━━━━━━━━━━━\u001b[0m\u001b[37m\u001b[0m \u001b[1m3s\u001b[0m 8ms/step - accuracy: 0.9291 - auc-roc: 0.9802 - loss: 0.1796\n",
            "Epoch 3/10\n",
            "\u001b[1m300/300\u001b[0m \u001b[32m━━━━━━━━━━━━━━━━━━━━\u001b[0m\u001b[37m\u001b[0m \u001b[1m3s\u001b[0m 9ms/step - accuracy: 0.9318 - auc-roc: 0.9818 - loss: 0.1716\n",
            "Epoch 4/10\n",
            "\u001b[1m300/300\u001b[0m \u001b[32m━━━━━━━━━━━━━━━━━━━━\u001b[0m\u001b[37m\u001b[0m \u001b[1m2s\u001b[0m 7ms/step - accuracy: 0.9347 - auc-roc: 0.9833 - loss: 0.1654\n",
            "Epoch 5/10\n",
            "\u001b[1m300/300\u001b[0m \u001b[32m━━━━━━━━━━━━━━━━━━━━\u001b[0m\u001b[37m\u001b[0m \u001b[1m2s\u001b[0m 7ms/step - accuracy: 0.9348 - auc-roc: 0.9832 - loss: 0.1635\n",
            "Epoch 6/10\n",
            "\u001b[1m300/300\u001b[0m \u001b[32m━━━━━━━━━━━━━━━━━━━━\u001b[0m\u001b[37m\u001b[0m \u001b[1m2s\u001b[0m 7ms/step - accuracy: 0.9355 - auc-roc: 0.9817 - loss: 0.1702\n",
            "Epoch 7/10\n",
            "\u001b[1m300/300\u001b[0m \u001b[32m━━━━━━━━━━━━━━━━━━━━\u001b[0m\u001b[37m\u001b[0m \u001b[1m2s\u001b[0m 7ms/step - accuracy: 0.9391 - auc-roc: 0.9853 - loss: 0.1537\n",
            "Epoch 8/10\n",
            "\u001b[1m300/300\u001b[0m \u001b[32m━━━━━━━━━━━━━━━━━━━━\u001b[0m\u001b[37m\u001b[0m \u001b[1m3s\u001b[0m 7ms/step - accuracy: 0.9386 - auc-roc: 0.9855 - loss: 0.1524\n",
            "Epoch 9/10\n",
            "\u001b[1m300/300\u001b[0m \u001b[32m━━━━━━━━━━━━━━━━━━━━\u001b[0m\u001b[37m\u001b[0m \u001b[1m2s\u001b[0m 8ms/step - accuracy: 0.9411 - auc-roc: 0.9853 - loss: 0.1520\n",
            "Epoch 10/10\n",
            "\u001b[1m300/300\u001b[0m \u001b[32m━━━━━━━━━━━━━━━━━━━━\u001b[0m\u001b[37m\u001b[0m \u001b[1m2s\u001b[0m 7ms/step - accuracy: 0.9398 - auc-roc: 0.9857 - loss: 0.1500\n",
            "Round:  6 ---> 51 - 60\n",
            "Epoch 1/10\n",
            "\u001b[1m300/300\u001b[0m \u001b[32m━━━━━━━━━━━━━━━━━━━━\u001b[0m\u001b[37m\u001b[0m \u001b[1m3s\u001b[0m 8ms/step - accuracy: 0.9401 - auc-roc: 0.9845 - loss: 0.1574\n",
            "Epoch 2/10\n",
            "\u001b[1m300/300\u001b[0m \u001b[32m━━━━━━━━━━━━━━━━━━━━\u001b[0m\u001b[37m\u001b[0m \u001b[1m5s\u001b[0m 7ms/step - accuracy: 0.9362 - auc-roc: 0.9836 - loss: 0.1622\n",
            "Epoch 3/10\n",
            "\u001b[1m300/300\u001b[0m \u001b[32m━━━━━━━━━━━━━━━━━━━━\u001b[0m\u001b[37m\u001b[0m \u001b[1m2s\u001b[0m 7ms/step - accuracy: 0.9434 - auc-roc: 0.9860 - loss: 0.1487\n",
            "Epoch 4/10\n",
            "\u001b[1m300/300\u001b[0m \u001b[32m━━━━━━━━━━━━━━━━━━━━\u001b[0m\u001b[37m\u001b[0m \u001b[1m2s\u001b[0m 7ms/step - accuracy: 0.9412 - auc-roc: 0.9864 - loss: 0.1468\n",
            "Epoch 5/10\n",
            "\u001b[1m300/300\u001b[0m \u001b[32m━━━━━━━━━━━━━━━━━━━━\u001b[0m\u001b[37m\u001b[0m \u001b[1m3s\u001b[0m 7ms/step - accuracy: 0.9434 - auc-roc: 0.9870 - loss: 0.1432\n",
            "Epoch 6/10\n",
            "\u001b[1m300/300\u001b[0m \u001b[32m━━━━━━━━━━━━━━━━━━━━\u001b[0m\u001b[37m\u001b[0m \u001b[1m2s\u001b[0m 8ms/step - accuracy: 0.9467 - auc-roc: 0.9879 - loss: 0.1389\n",
            "Epoch 7/10\n",
            "\u001b[1m300/300\u001b[0m \u001b[32m━━━━━━━━━━━━━━━━━━━━\u001b[0m\u001b[37m\u001b[0m \u001b[1m2s\u001b[0m 7ms/step - accuracy: 0.9449 - auc-roc: 0.9869 - loss: 0.1432\n",
            "Epoch 8/10\n",
            "\u001b[1m300/300\u001b[0m \u001b[32m━━━━━━━━━━━━━━━━━━━━\u001b[0m\u001b[37m\u001b[0m \u001b[1m2s\u001b[0m 7ms/step - accuracy: 0.9508 - auc-roc: 0.9893 - loss: 0.1305\n",
            "Epoch 9/10\n",
            "\u001b[1m300/300\u001b[0m \u001b[32m━━━━━━━━━━━━━━━━━━━━\u001b[0m\u001b[37m\u001b[0m \u001b[1m2s\u001b[0m 7ms/step - accuracy: 0.9507 - auc-roc: 0.9894 - loss: 0.1288\n",
            "Epoch 10/10\n",
            "\u001b[1m300/300\u001b[0m \u001b[32m━━━━━━━━━━━━━━━━━━━━\u001b[0m\u001b[37m\u001b[0m \u001b[1m3s\u001b[0m 8ms/step - accuracy: 0.9482 - auc-roc: 0.9886 - loss: 0.1335\n",
            "Round:  7 ---> 61 - 70\n",
            "Epoch 1/10\n",
            "\u001b[1m300/300\u001b[0m \u001b[32m━━━━━━━━━━━━━━━━━━━━\u001b[0m\u001b[37m\u001b[0m \u001b[1m2s\u001b[0m 7ms/step - accuracy: 0.9431 - auc-roc: 0.9856 - loss: 0.1506\n",
            "Epoch 2/10\n",
            "\u001b[1m300/300\u001b[0m \u001b[32m━━━━━━━━━━━━━━━━━━━━\u001b[0m\u001b[37m\u001b[0m \u001b[1m2s\u001b[0m 7ms/step - accuracy: 0.9455 - auc-roc: 0.9884 - loss: 0.1347\n",
            "Epoch 3/10\n",
            "\u001b[1m300/300\u001b[0m \u001b[32m━━━━━━━━━━━━━━━━━━━━\u001b[0m\u001b[37m\u001b[0m \u001b[1m2s\u001b[0m 8ms/step - accuracy: 0.9470 - auc-roc: 0.9870 - loss: 0.1412\n",
            "Epoch 4/10\n",
            "\u001b[1m300/300\u001b[0m \u001b[32m━━━━━━━━━━━━━━━━━━━━\u001b[0m\u001b[37m\u001b[0m \u001b[1m3s\u001b[0m 9ms/step - accuracy: 0.9445 - auc-roc: 0.9856 - loss: 0.1491\n",
            "Epoch 5/10\n",
            "\u001b[1m300/300\u001b[0m \u001b[32m━━━━━━━━━━━━━━━━━━━━\u001b[0m\u001b[37m\u001b[0m \u001b[1m2s\u001b[0m 7ms/step - accuracy: 0.9496 - auc-roc: 0.9895 - loss: 0.1292\n",
            "Epoch 6/10\n",
            "\u001b[1m300/300\u001b[0m \u001b[32m━━━━━━━━━━━━━━━━━━━━\u001b[0m\u001b[37m\u001b[0m \u001b[1m3s\u001b[0m 7ms/step - accuracy: 0.9498 - auc-roc: 0.9893 - loss: 0.1294\n",
            "Epoch 7/10\n",
            "\u001b[1m300/300\u001b[0m \u001b[32m━━━━━━━━━━━━━━━━━━━━\u001b[0m\u001b[37m\u001b[0m \u001b[1m2s\u001b[0m 7ms/step - accuracy: 0.9546 - auc-roc: 0.9896 - loss: 0.1244\n",
            "Epoch 8/10\n",
            "\u001b[1m300/300\u001b[0m \u001b[32m━━━━━━━━━━━━━━━━━━━━\u001b[0m\u001b[37m\u001b[0m \u001b[1m3s\u001b[0m 7ms/step - accuracy: 0.9515 - auc-roc: 0.9898 - loss: 0.1249\n",
            "Epoch 9/10\n",
            "\u001b[1m300/300\u001b[0m \u001b[32m━━━━━━━━━━━━━━━━━━━━\u001b[0m\u001b[37m\u001b[0m \u001b[1m3s\u001b[0m 8ms/step - accuracy: 0.9528 - auc-roc: 0.9894 - loss: 0.1284\n",
            "Epoch 10/10\n",
            "\u001b[1m300/300\u001b[0m \u001b[32m━━━━━━━━━━━━━━━━━━━━\u001b[0m\u001b[37m\u001b[0m \u001b[1m3s\u001b[0m 8ms/step - accuracy: 0.9520 - auc-roc: 0.9901 - loss: 0.1244\n",
            "Round:  8 ---> 71 - 80\n",
            "Epoch 1/10\n",
            "\u001b[1m300/300\u001b[0m \u001b[32m━━━━━━━━━━━━━━━━━━━━\u001b[0m\u001b[37m\u001b[0m \u001b[1m2s\u001b[0m 8ms/step - accuracy: 0.9491 - auc-roc: 0.9883 - loss: 0.1345\n",
            "Epoch 2/10\n",
            "\u001b[1m300/300\u001b[0m \u001b[32m━━━━━━━━━━━━━━━━━━━━\u001b[0m\u001b[37m\u001b[0m \u001b[1m2s\u001b[0m 8ms/step - accuracy: 0.9551 - auc-roc: 0.9892 - loss: 0.1283\n",
            "Epoch 3/10\n",
            "\u001b[1m300/300\u001b[0m \u001b[32m━━━━━━━━━━━━━━━━━━━━\u001b[0m\u001b[37m\u001b[0m \u001b[1m2s\u001b[0m 7ms/step - accuracy: 0.9551 - auc-roc: 0.9899 - loss: 0.1226\n",
            "Epoch 4/10\n",
            "\u001b[1m300/300\u001b[0m \u001b[32m━━━━━━━━━━━━━━━━━━━━\u001b[0m\u001b[37m\u001b[0m \u001b[1m3s\u001b[0m 7ms/step - accuracy: 0.9547 - auc-roc: 0.9896 - loss: 0.1251\n",
            "Epoch 5/10\n",
            "\u001b[1m300/300\u001b[0m \u001b[32m━━━━━━━━━━━━━━━━━━━━\u001b[0m\u001b[37m\u001b[0m \u001b[1m2s\u001b[0m 7ms/step - accuracy: 0.9556 - auc-roc: 0.9908 - loss: 0.1176\n",
            "Epoch 6/10\n",
            "\u001b[1m300/300\u001b[0m \u001b[32m━━━━━━━━━━━━━━━━━━━━\u001b[0m\u001b[37m\u001b[0m \u001b[1m2s\u001b[0m 7ms/step - accuracy: 0.9586 - auc-roc: 0.9912 - loss: 0.1154\n",
            "Epoch 7/10\n",
            "\u001b[1m300/300\u001b[0m \u001b[32m━━━━━━━━━━━━━━━━━━━━\u001b[0m\u001b[37m\u001b[0m \u001b[1m2s\u001b[0m 8ms/step - accuracy: 0.9587 - auc-roc: 0.9912 - loss: 0.1161\n",
            "Epoch 8/10\n",
            "\u001b[1m300/300\u001b[0m \u001b[32m━━━━━━━━━━━━━━━━━━━━\u001b[0m\u001b[37m\u001b[0m \u001b[1m2s\u001b[0m 8ms/step - accuracy: 0.9567 - auc-roc: 0.9910 - loss: 0.1148\n",
            "Epoch 9/10\n",
            "\u001b[1m300/300\u001b[0m \u001b[32m━━━━━━━━━━━━━━━━━━━━\u001b[0m\u001b[37m\u001b[0m \u001b[1m2s\u001b[0m 7ms/step - accuracy: 0.9616 - auc-roc: 0.9913 - loss: 0.1108\n",
            "Epoch 10/10\n",
            "\u001b[1m300/300\u001b[0m \u001b[32m━━━━━━━━━━━━━━━━━━━━\u001b[0m\u001b[37m\u001b[0m \u001b[1m3s\u001b[0m 7ms/step - accuracy: 0.9592 - auc-roc: 0.9922 - loss: 0.1088\n",
            "Round:  9 ---> 81 - 90\n",
            "Epoch 1/10\n",
            "\u001b[1m300/300\u001b[0m \u001b[32m━━━━━━━━━━━━━━━━━━━━\u001b[0m\u001b[37m\u001b[0m \u001b[1m2s\u001b[0m 7ms/step - accuracy: 0.9529 - auc-roc: 0.9894 - loss: 0.1273\n",
            "Epoch 2/10\n",
            "\u001b[1m300/300\u001b[0m \u001b[32m━━━━━━━━━━━━━━━━━━━━\u001b[0m\u001b[37m\u001b[0m \u001b[1m2s\u001b[0m 7ms/step - accuracy: 0.9540 - auc-roc: 0.9903 - loss: 0.1213\n",
            "Epoch 3/10\n",
            "\u001b[1m300/300\u001b[0m \u001b[32m━━━━━━━━━━━━━━━━━━━━\u001b[0m\u001b[37m\u001b[0m \u001b[1m2s\u001b[0m 7ms/step - accuracy: 0.9592 - auc-roc: 0.9913 - loss: 0.1112\n",
            "Epoch 4/10\n",
            "\u001b[1m300/300\u001b[0m \u001b[32m━━━━━━━━━━━━━━━━━━━━\u001b[0m\u001b[37m\u001b[0m \u001b[1m2s\u001b[0m 7ms/step - accuracy: 0.9599 - auc-roc: 0.9908 - loss: 0.1152\n",
            "Epoch 5/10\n",
            "\u001b[1m300/300\u001b[0m \u001b[32m━━━━━━━━━━━━━━━━━━━━\u001b[0m\u001b[37m\u001b[0m \u001b[1m2s\u001b[0m 8ms/step - accuracy: 0.9611 - auc-roc: 0.9914 - loss: 0.1128\n",
            "Epoch 6/10\n",
            "\u001b[1m300/300\u001b[0m \u001b[32m━━━━━━━━━━━━━━━━━━━━\u001b[0m\u001b[37m\u001b[0m \u001b[1m2s\u001b[0m 7ms/step - accuracy: 0.9577 - auc-roc: 0.9909 - loss: 0.1153\n",
            "Epoch 7/10\n",
            "\u001b[1m300/300\u001b[0m \u001b[32m━━━━━━━━━━━━━━━━━━━━\u001b[0m\u001b[37m\u001b[0m \u001b[1m2s\u001b[0m 7ms/step - accuracy: 0.9622 - auc-roc: 0.9923 - loss: 0.1064\n",
            "Epoch 8/10\n",
            "\u001b[1m300/300\u001b[0m \u001b[32m━━━━━━━━━━━━━━━━━━━━\u001b[0m\u001b[37m\u001b[0m \u001b[1m2s\u001b[0m 7ms/step - accuracy: 0.9608 - auc-roc: 0.9924 - loss: 0.1056\n",
            "Epoch 9/10\n",
            "\u001b[1m300/300\u001b[0m \u001b[32m━━━━━━━━━━━━━━━━━━━━\u001b[0m\u001b[37m\u001b[0m \u001b[1m3s\u001b[0m 6ms/step - accuracy: 0.9634 - auc-roc: 0.9930 - loss: 0.1019\n",
            "Epoch 10/10\n",
            "\u001b[1m300/300\u001b[0m \u001b[32m━━━━━━━━━━━━━━━━━━━━\u001b[0m\u001b[37m\u001b[0m \u001b[1m3s\u001b[0m 7ms/step - accuracy: 0.9588 - auc-roc: 0.9920 - loss: 0.1097\n",
            "Round:  10 ---> 91 - 100\n",
            "Epoch 1/10\n",
            "\u001b[1m300/300\u001b[0m \u001b[32m━━━━━━━━━━━━━━━━━━━━\u001b[0m\u001b[37m\u001b[0m \u001b[1m2s\u001b[0m 7ms/step - accuracy: 0.9583 - auc-roc: 0.9905 - loss: 0.1183\n",
            "Epoch 2/10\n",
            "\u001b[1m300/300\u001b[0m \u001b[32m━━━━━━━━━━━━━━━━━━━━\u001b[0m\u001b[37m\u001b[0m \u001b[1m3s\u001b[0m 8ms/step - accuracy: 0.9610 - auc-roc: 0.9926 - loss: 0.1041\n",
            "Epoch 3/10\n",
            "\u001b[1m300/300\u001b[0m \u001b[32m━━━━━━━━━━━━━━━━━━━━\u001b[0m\u001b[37m\u001b[0m \u001b[1m2s\u001b[0m 8ms/step - accuracy: 0.9569 - auc-roc: 0.9909 - loss: 0.1163\n",
            "Epoch 4/10\n",
            "\u001b[1m300/300\u001b[0m \u001b[32m━━━━━━━━━━━━━━━━━━━━\u001b[0m\u001b[37m\u001b[0m \u001b[1m2s\u001b[0m 6ms/step - accuracy: 0.9596 - auc-roc: 0.9915 - loss: 0.1104\n",
            "Epoch 5/10\n",
            "\u001b[1m300/300\u001b[0m \u001b[32m━━━━━━━━━━━━━━━━━━━━\u001b[0m\u001b[37m\u001b[0m \u001b[1m3s\u001b[0m 6ms/step - accuracy: 0.9668 - auc-roc: 0.9935 - loss: 0.0949\n",
            "Epoch 6/10\n",
            "\u001b[1m300/300\u001b[0m \u001b[32m━━━━━━━━━━━━━━━━━━━━\u001b[0m\u001b[37m\u001b[0m \u001b[1m3s\u001b[0m 7ms/step - accuracy: 0.9642 - auc-roc: 0.9938 - loss: 0.0945\n",
            "Epoch 7/10\n",
            "\u001b[1m300/300\u001b[0m \u001b[32m━━━━━━━━━━━━━━━━━━━━\u001b[0m\u001b[37m\u001b[0m \u001b[1m2s\u001b[0m 7ms/step - accuracy: 0.9637 - auc-roc: 0.9931 - loss: 0.0998\n",
            "Epoch 8/10\n",
            "\u001b[1m300/300\u001b[0m \u001b[32m━━━━━━━━━━━━━━━━━━━━\u001b[0m\u001b[37m\u001b[0m \u001b[1m3s\u001b[0m 8ms/step - accuracy: 0.9637 - auc-roc: 0.9932 - loss: 0.0991\n",
            "Epoch 9/10\n",
            "\u001b[1m300/300\u001b[0m \u001b[32m━━━━━━━━━━━━━━━━━━━━\u001b[0m\u001b[37m\u001b[0m \u001b[1m2s\u001b[0m 7ms/step - accuracy: 0.9671 - auc-roc: 0.9943 - loss: 0.0913\n",
            "Epoch 10/10\n",
            "\u001b[1m300/300\u001b[0m \u001b[32m━━━━━━━━━━━━━━━━━━━━\u001b[0m\u001b[37m\u001b[0m \u001b[1m2s\u001b[0m 7ms/step - accuracy: 0.9637 - auc-roc: 0.9928 - loss: 0.1012\n",
            "Round:  11 ---> 101 - 110\n",
            "Epoch 1/10\n",
            "\u001b[1m300/300\u001b[0m \u001b[32m━━━━━━━━━━━━━━━━━━━━\u001b[0m\u001b[37m\u001b[0m \u001b[1m2s\u001b[0m 7ms/step - accuracy: 0.9608 - auc-roc: 0.9920 - loss: 0.1068\n",
            "Epoch 2/10\n",
            "\u001b[1m300/300\u001b[0m \u001b[32m━━━━━━━━━━━━━━━━━━━━\u001b[0m\u001b[37m\u001b[0m \u001b[1m3s\u001b[0m 6ms/step - accuracy: 0.9652 - auc-roc: 0.9922 - loss: 0.1032\n",
            "Epoch 3/10\n",
            "\u001b[1m300/300\u001b[0m \u001b[32m━━━━━━━━━━━━━━━━━━━━\u001b[0m\u001b[37m\u001b[0m \u001b[1m3s\u001b[0m 7ms/step - accuracy: 0.9656 - auc-roc: 0.9939 - loss: 0.0943\n",
            "Epoch 4/10\n",
            "\u001b[1m300/300\u001b[0m \u001b[32m━━━━━━━━━━━━━━━━━━━━\u001b[0m\u001b[37m\u001b[0m \u001b[1m3s\u001b[0m 7ms/step - accuracy: 0.9678 - auc-roc: 0.9943 - loss: 0.0906\n",
            "Epoch 5/10\n",
            "\u001b[1m300/300\u001b[0m \u001b[32m━━━━━━━━━━━━━━━━━━━━\u001b[0m\u001b[37m\u001b[0m \u001b[1m3s\u001b[0m 8ms/step - accuracy: 0.9643 - auc-roc: 0.9939 - loss: 0.0929\n",
            "Epoch 6/10\n",
            "\u001b[1m300/300\u001b[0m \u001b[32m━━━━━━━━━━━━━━━━━━━━\u001b[0m\u001b[37m\u001b[0m \u001b[1m2s\u001b[0m 8ms/step - accuracy: 0.9686 - auc-roc: 0.9938 - loss: 0.0907\n",
            "Epoch 7/10\n",
            "\u001b[1m300/300\u001b[0m \u001b[32m━━━━━━━━━━━━━━━━━━━━\u001b[0m\u001b[37m\u001b[0m \u001b[1m2s\u001b[0m 7ms/step - accuracy: 0.9703 - auc-roc: 0.9942 - loss: 0.0885\n",
            "Epoch 8/10\n",
            "\u001b[1m300/300\u001b[0m \u001b[32m━━━━━━━━━━━━━━━━━━━━\u001b[0m\u001b[37m\u001b[0m \u001b[1m3s\u001b[0m 7ms/step - accuracy: 0.9678 - auc-roc: 0.9922 - loss: 0.1005\n",
            "Epoch 9/10\n",
            "\u001b[1m300/300\u001b[0m \u001b[32m━━━━━━━━━━━━━━━━━━━━\u001b[0m\u001b[37m\u001b[0m \u001b[1m3s\u001b[0m 6ms/step - accuracy: 0.9669 - auc-roc: 0.9931 - loss: 0.0969\n",
            "Epoch 10/10\n",
            "\u001b[1m300/300\u001b[0m \u001b[32m━━━━━━━━━━━━━━━━━━━━\u001b[0m\u001b[37m\u001b[0m \u001b[1m3s\u001b[0m 7ms/step - accuracy: 0.9685 - auc-roc: 0.9945 - loss: 0.0889\n",
            "Round:  12 ---> 111 - 120\n",
            "Epoch 1/10\n",
            "\u001b[1m300/300\u001b[0m \u001b[32m━━━━━━━━━━━━━━━━━━━━\u001b[0m\u001b[37m\u001b[0m \u001b[1m2s\u001b[0m 7ms/step - accuracy: 0.9652 - auc-roc: 0.9939 - loss: 0.0937\n",
            "Epoch 2/10\n",
            "\u001b[1m300/300\u001b[0m \u001b[32m━━━━━━━━━━━━━━━━━━━━\u001b[0m\u001b[37m\u001b[0m \u001b[1m3s\u001b[0m 8ms/step - accuracy: 0.9665 - auc-roc: 0.9942 - loss: 0.0913\n",
            "Epoch 3/10\n",
            "\u001b[1m300/300\u001b[0m \u001b[32m━━━━━━━━━━━━━━━━━━━━\u001b[0m\u001b[37m\u001b[0m \u001b[1m3s\u001b[0m 8ms/step - accuracy: 0.9687 - auc-roc: 0.9933 - loss: 0.0927\n",
            "Epoch 4/10\n",
            "\u001b[1m300/300\u001b[0m \u001b[32m━━━━━━━━━━━━━━━━━━━━\u001b[0m\u001b[37m\u001b[0m \u001b[1m5s\u001b[0m 6ms/step - accuracy: 0.9707 - auc-roc: 0.9947 - loss: 0.0857\n",
            "Epoch 5/10\n",
            "\u001b[1m300/300\u001b[0m \u001b[32m━━━━━━━━━━━━━━━━━━━━\u001b[0m\u001b[37m\u001b[0m \u001b[1m3s\u001b[0m 7ms/step - accuracy: 0.9708 - auc-roc: 0.9952 - loss: 0.0823\n",
            "Epoch 6/10\n",
            "\u001b[1m300/300\u001b[0m \u001b[32m━━━━━━━━━━━━━━━━━━━━\u001b[0m\u001b[37m\u001b[0m \u001b[1m2s\u001b[0m 7ms/step - accuracy: 0.9690 - auc-roc: 0.9943 - loss: 0.0898\n",
            "Epoch 7/10\n",
            "\u001b[1m300/300\u001b[0m \u001b[32m━━━━━━━━━━━━━━━━━━━━\u001b[0m\u001b[37m\u001b[0m \u001b[1m3s\u001b[0m 8ms/step - accuracy: 0.9650 - auc-roc: 0.9940 - loss: 0.0959\n",
            "Epoch 8/10\n",
            "\u001b[1m300/300\u001b[0m \u001b[32m━━━━━━━━━━━━━━━━━━━━\u001b[0m\u001b[37m\u001b[0m \u001b[1m2s\u001b[0m 8ms/step - accuracy: 0.9652 - auc-roc: 0.9942 - loss: 0.0927\n",
            "Epoch 9/10\n",
            "\u001b[1m300/300\u001b[0m \u001b[32m━━━━━━━━━━━━━━━━━━━━\u001b[0m\u001b[37m\u001b[0m \u001b[1m2s\u001b[0m 7ms/step - accuracy: 0.9670 - auc-roc: 0.9938 - loss: 0.0941\n",
            "Epoch 10/10\n",
            "\u001b[1m300/300\u001b[0m \u001b[32m━━━━━━━━━━━━━━━━━━━━\u001b[0m\u001b[37m\u001b[0m \u001b[1m3s\u001b[0m 7ms/step - accuracy: 0.9697 - auc-roc: 0.9945 - loss: 0.0868\n",
            "Round:  13 ---> 121 - 130\n",
            "Epoch 1/10\n",
            "\u001b[1m300/300\u001b[0m \u001b[32m━━━━━━━━━━━━━━━━━━━━\u001b[0m\u001b[37m\u001b[0m \u001b[1m2s\u001b[0m 7ms/step - accuracy: 0.9681 - auc-roc: 0.9946 - loss: 0.0854\n",
            "Epoch 2/10\n",
            "\u001b[1m300/300\u001b[0m \u001b[32m━━━━━━━━━━━━━━━━━━━━\u001b[0m\u001b[37m\u001b[0m \u001b[1m3s\u001b[0m 7ms/step - accuracy: 0.9649 - auc-roc: 0.9928 - loss: 0.1005\n",
            "Epoch 3/10\n",
            "\u001b[1m300/300\u001b[0m \u001b[32m━━━━━━━━━━━━━━━━━━━━\u001b[0m\u001b[37m\u001b[0m \u001b[1m2s\u001b[0m 7ms/step - accuracy: 0.9690 - auc-roc: 0.9943 - loss: 0.0866\n",
            "Epoch 4/10\n",
            "\u001b[1m300/300\u001b[0m \u001b[32m━━━━━━━━━━━━━━━━━━━━\u001b[0m\u001b[37m\u001b[0m \u001b[1m2s\u001b[0m 7ms/step - accuracy: 0.9700 - auc-roc: 0.9945 - loss: 0.0869\n",
            "Epoch 5/10\n",
            "\u001b[1m300/300\u001b[0m \u001b[32m━━━━━━━━━━━━━━━━━━━━\u001b[0m\u001b[37m\u001b[0m \u001b[1m3s\u001b[0m 8ms/step - accuracy: 0.9706 - auc-roc: 0.9948 - loss: 0.0834\n",
            "Epoch 6/10\n",
            "\u001b[1m300/300\u001b[0m \u001b[32m━━━━━━━━━━━━━━━━━━━━\u001b[0m\u001b[37m\u001b[0m \u001b[1m2s\u001b[0m 7ms/step - accuracy: 0.9685 - auc-roc: 0.9933 - loss: 0.0982\n",
            "Epoch 7/10\n",
            "\u001b[1m300/300\u001b[0m \u001b[32m━━━━━━━━━━━━━━━━━━━━\u001b[0m\u001b[37m\u001b[0m \u001b[1m2s\u001b[0m 7ms/step - accuracy: 0.9732 - auc-roc: 0.9952 - loss: 0.0803\n",
            "Epoch 8/10\n",
            "\u001b[1m300/300\u001b[0m \u001b[32m━━━━━━━━━━━━━━━━━━━━\u001b[0m\u001b[37m\u001b[0m \u001b[1m3s\u001b[0m 7ms/step - accuracy: 0.9704 - auc-roc: 0.9944 - loss: 0.0859\n",
            "Epoch 9/10\n",
            "\u001b[1m300/300\u001b[0m \u001b[32m━━━━━━━━━━━━━━━━━━━━\u001b[0m\u001b[37m\u001b[0m \u001b[1m2s\u001b[0m 7ms/step - accuracy: 0.9686 - auc-roc: 0.9943 - loss: 0.0875\n",
            "Epoch 10/10\n",
            "\u001b[1m300/300\u001b[0m \u001b[32m━━━━━━━━━━━━━━━━━━━━\u001b[0m\u001b[37m\u001b[0m \u001b[1m3s\u001b[0m 8ms/step - accuracy: 0.9732 - auc-roc: 0.9954 - loss: 0.0779\n",
            "Round:  14 ---> 131 - 140\n",
            "Epoch 1/10\n",
            "\u001b[1m300/300\u001b[0m \u001b[32m━━━━━━━━━━━━━━━━━━━━\u001b[0m\u001b[37m\u001b[0m \u001b[1m2s\u001b[0m 7ms/step - accuracy: 0.9665 - auc-roc: 0.9933 - loss: 0.0932\n",
            "Epoch 2/10\n",
            "\u001b[1m300/300\u001b[0m \u001b[32m━━━━━━━━━━━━━━━━━━━━\u001b[0m\u001b[37m\u001b[0m \u001b[1m2s\u001b[0m 8ms/step - accuracy: 0.9683 - auc-roc: 0.9947 - loss: 0.0873\n",
            "Epoch 3/10\n",
            "\u001b[1m300/300\u001b[0m \u001b[32m━━━━━━━━━━━━━━━━━━━━\u001b[0m\u001b[37m\u001b[0m \u001b[1m2s\u001b[0m 8ms/step - accuracy: 0.9701 - auc-roc: 0.9950 - loss: 0.0837\n",
            "Epoch 4/10\n",
            "\u001b[1m300/300\u001b[0m \u001b[32m━━━━━━━━━━━━━━━━━━━━\u001b[0m\u001b[37m\u001b[0m \u001b[1m2s\u001b[0m 7ms/step - accuracy: 0.9722 - auc-roc: 0.9957 - loss: 0.0764\n",
            "Epoch 5/10\n",
            "\u001b[1m300/300\u001b[0m \u001b[32m━━━━━━━━━━━━━━━━━━━━\u001b[0m\u001b[37m\u001b[0m \u001b[1m3s\u001b[0m 8ms/step - accuracy: 0.9723 - auc-roc: 0.9958 - loss: 0.0772\n",
            "Epoch 6/10\n",
            "\u001b[1m300/300\u001b[0m \u001b[32m━━━━━━━━━━━━━━━━━━━━\u001b[0m\u001b[37m\u001b[0m \u001b[1m2s\u001b[0m 7ms/step - accuracy: 0.9700 - auc-roc: 0.9950 - loss: 0.0810\n",
            "Epoch 7/10\n",
            "\u001b[1m300/300\u001b[0m \u001b[32m━━━━━━━━━━━━━━━━━━━━\u001b[0m\u001b[37m\u001b[0m \u001b[1m2s\u001b[0m 7ms/step - accuracy: 0.9732 - auc-roc: 0.9947 - loss: 0.0789\n",
            "Epoch 8/10\n",
            "\u001b[1m300/300\u001b[0m \u001b[32m━━━━━━━━━━━━━━━━━━━━\u001b[0m\u001b[37m\u001b[0m \u001b[1m3s\u001b[0m 8ms/step - accuracy: 0.9727 - auc-roc: 0.9957 - loss: 0.0755\n",
            "Epoch 9/10\n",
            "\u001b[1m300/300\u001b[0m \u001b[32m━━━━━━━━━━━━━━━━━━━━\u001b[0m\u001b[37m\u001b[0m \u001b[1m2s\u001b[0m 7ms/step - accuracy: 0.9726 - auc-roc: 0.9958 - loss: 0.0764\n",
            "Epoch 10/10\n",
            "\u001b[1m300/300\u001b[0m \u001b[32m━━━━━━━━━━━━━━━━━━━━\u001b[0m\u001b[37m\u001b[0m \u001b[1m2s\u001b[0m 7ms/step - accuracy: 0.9734 - auc-roc: 0.9953 - loss: 0.0796\n",
            "Round:  15 ---> 141 - 150\n",
            "Epoch 1/10\n",
            "\u001b[1m300/300\u001b[0m \u001b[32m━━━━━━━━━━━━━━━━━━━━\u001b[0m\u001b[37m\u001b[0m \u001b[1m2s\u001b[0m 7ms/step - accuracy: 0.9670 - auc-roc: 0.9935 - loss: 0.0970\n",
            "Epoch 2/10\n",
            "\u001b[1m300/300\u001b[0m \u001b[32m━━━━━━━━━━━━━━━━━━━━\u001b[0m\u001b[37m\u001b[0m \u001b[1m3s\u001b[0m 7ms/step - accuracy: 0.9731 - auc-roc: 0.9953 - loss: 0.0787\n",
            "Epoch 3/10\n",
            "\u001b[1m300/300\u001b[0m \u001b[32m━━━━━━━━━━━━━━━━━━━━\u001b[0m\u001b[37m\u001b[0m \u001b[1m2s\u001b[0m 7ms/step - accuracy: 0.9712 - auc-roc: 0.9953 - loss: 0.0788\n",
            "Epoch 4/10\n",
            "\u001b[1m300/300\u001b[0m \u001b[32m━━━━━━━━━━━━━━━━━━━━\u001b[0m\u001b[37m\u001b[0m \u001b[1m2s\u001b[0m 7ms/step - accuracy: 0.9701 - auc-roc: 0.9945 - loss: 0.0869\n",
            "Epoch 5/10\n",
            "\u001b[1m300/300\u001b[0m \u001b[32m━━━━━━━━━━━━━━━━━━━━\u001b[0m\u001b[37m\u001b[0m \u001b[1m3s\u001b[0m 8ms/step - accuracy: 0.9730 - auc-roc: 0.9959 - loss: 0.0753\n",
            "Epoch 6/10\n",
            "\u001b[1m300/300\u001b[0m \u001b[32m━━━━━━━━━━━━━━━━━━━━\u001b[0m\u001b[37m\u001b[0m \u001b[1m2s\u001b[0m 8ms/step - accuracy: 0.9745 - auc-roc: 0.9958 - loss: 0.0739\n",
            "Epoch 7/10\n",
            "\u001b[1m300/300\u001b[0m \u001b[32m━━━━━━━━━━━━━━━━━━━━\u001b[0m\u001b[37m\u001b[0m \u001b[1m2s\u001b[0m 7ms/step - accuracy: 0.9713 - auc-roc: 0.9958 - loss: 0.0778\n",
            "Epoch 8/10\n",
            "\u001b[1m300/300\u001b[0m \u001b[32m━━━━━━━━━━━━━━━━━━━━\u001b[0m\u001b[37m\u001b[0m \u001b[1m2s\u001b[0m 7ms/step - accuracy: 0.9713 - auc-roc: 0.9949 - loss: 0.0828\n",
            "Epoch 9/10\n",
            "\u001b[1m300/300\u001b[0m \u001b[32m━━━━━━━━━━━━━━━━━━━━\u001b[0m\u001b[37m\u001b[0m \u001b[1m3s\u001b[0m 7ms/step - accuracy: 0.9735 - auc-roc: 0.9958 - loss: 0.0742\n",
            "Epoch 10/10\n",
            "\u001b[1m300/300\u001b[0m \u001b[32m━━━━━━━━━━━━━━━━━━━━\u001b[0m\u001b[37m\u001b[0m \u001b[1m2s\u001b[0m 7ms/step - accuracy: 0.9723 - auc-roc: 0.9961 - loss: 0.0735\n",
            "Round:  16 ---> 151 - 160\n",
            "Epoch 1/10\n",
            "\u001b[1m300/300\u001b[0m \u001b[32m━━━━━━━━━━━━━━━━━━━━\u001b[0m\u001b[37m\u001b[0m \u001b[1m2s\u001b[0m 7ms/step - accuracy: 0.9719 - auc-roc: 0.9949 - loss: 0.0802\n",
            "Epoch 2/10\n",
            "\u001b[1m300/300\u001b[0m \u001b[32m━━━━━━━━━━━━━━━━━━━━\u001b[0m\u001b[37m\u001b[0m \u001b[1m2s\u001b[0m 7ms/step - accuracy: 0.9702 - auc-roc: 0.9941 - loss: 0.0878\n",
            "Epoch 3/10\n",
            "\u001b[1m300/300\u001b[0m \u001b[32m━━━━━━━━━━━━━━━━━━━━\u001b[0m\u001b[37m\u001b[0m \u001b[1m3s\u001b[0m 8ms/step - accuracy: 0.9730 - auc-roc: 0.9948 - loss: 0.0808\n",
            "Epoch 4/10\n",
            "\u001b[1m300/300\u001b[0m \u001b[32m━━━━━━━━━━━━━━━━━━━━\u001b[0m\u001b[37m\u001b[0m \u001b[1m2s\u001b[0m 7ms/step - accuracy: 0.9734 - auc-roc: 0.9962 - loss: 0.0727\n",
            "Epoch 5/10\n",
            "\u001b[1m300/300\u001b[0m \u001b[32m━━━━━━━━━━━━━━━━━━━━\u001b[0m\u001b[37m\u001b[0m \u001b[1m3s\u001b[0m 7ms/step - accuracy: 0.9757 - auc-roc: 0.9959 - loss: 0.0731\n",
            "Epoch 6/10\n",
            "\u001b[1m300/300\u001b[0m \u001b[32m━━━━━━━━━━━━━━━━━━━━\u001b[0m\u001b[37m\u001b[0m \u001b[1m2s\u001b[0m 7ms/step - accuracy: 0.9737 - auc-roc: 0.9951 - loss: 0.0789\n",
            "Epoch 7/10\n",
            "\u001b[1m300/300\u001b[0m \u001b[32m━━━━━━━━━━━━━━━━━━━━\u001b[0m\u001b[37m\u001b[0m \u001b[1m2s\u001b[0m 6ms/step - accuracy: 0.9729 - auc-roc: 0.9954 - loss: 0.0769\n",
            "Epoch 8/10\n",
            "\u001b[1m300/300\u001b[0m \u001b[32m━━━━━━━━━━━━━━━━━━━━\u001b[0m\u001b[37m\u001b[0m \u001b[1m3s\u001b[0m 8ms/step - accuracy: 0.9731 - auc-roc: 0.9958 - loss: 0.0734\n",
            "Epoch 9/10\n",
            "\u001b[1m300/300\u001b[0m \u001b[32m━━━━━━━━━━━━━━━━━━━━\u001b[0m\u001b[37m\u001b[0m \u001b[1m2s\u001b[0m 8ms/step - accuracy: 0.9728 - auc-roc: 0.9960 - loss: 0.0748\n",
            "Epoch 10/10\n",
            "\u001b[1m300/300\u001b[0m \u001b[32m━━━━━━━━━━━━━━━━━━━━\u001b[0m\u001b[37m\u001b[0m \u001b[1m2s\u001b[0m 7ms/step - accuracy: 0.9746 - auc-roc: 0.9960 - loss: 0.0721\n",
            "Round:  17 ---> 161 - 170\n",
            "Epoch 1/10\n",
            "\u001b[1m300/300\u001b[0m \u001b[32m━━━━━━━━━━━━━━━━━━━━\u001b[0m\u001b[37m\u001b[0m \u001b[1m2s\u001b[0m 8ms/step - accuracy: 0.9682 - auc-roc: 0.9938 - loss: 0.0906\n",
            "Epoch 2/10\n",
            "\u001b[1m300/300\u001b[0m \u001b[32m━━━━━━━━━━━━━━━━━━━━\u001b[0m\u001b[37m\u001b[0m \u001b[1m2s\u001b[0m 7ms/step - accuracy: 0.9746 - auc-roc: 0.9957 - loss: 0.0753\n",
            "Epoch 3/10\n",
            "\u001b[1m300/300\u001b[0m \u001b[32m━━━━━━━━━━━━━━━━━━━━\u001b[0m\u001b[37m\u001b[0m \u001b[1m2s\u001b[0m 7ms/step - accuracy: 0.9739 - auc-roc: 0.9957 - loss: 0.0753\n",
            "Epoch 4/10\n",
            "\u001b[1m300/300\u001b[0m \u001b[32m━━━━━━━━━━━━━━━━━━━━\u001b[0m\u001b[37m\u001b[0m \u001b[1m3s\u001b[0m 7ms/step - accuracy: 0.9719 - auc-roc: 0.9954 - loss: 0.0805\n",
            "Epoch 5/10\n",
            "\u001b[1m300/300\u001b[0m \u001b[32m━━━━━━━━━━━━━━━━━━━━\u001b[0m\u001b[37m\u001b[0m \u001b[1m2s\u001b[0m 7ms/step - accuracy: 0.9743 - auc-roc: 0.9959 - loss: 0.0725\n",
            "Epoch 6/10\n",
            "\u001b[1m300/300\u001b[0m \u001b[32m━━━━━━━━━━━━━━━━━━━━\u001b[0m\u001b[37m\u001b[0m \u001b[1m3s\u001b[0m 8ms/step - accuracy: 0.9745 - auc-roc: 0.9955 - loss: 0.0758\n",
            "Epoch 7/10\n",
            "\u001b[1m300/300\u001b[0m \u001b[32m━━━━━━━━━━━━━━━━━━━━\u001b[0m\u001b[37m\u001b[0m \u001b[1m2s\u001b[0m 8ms/step - accuracy: 0.9775 - auc-roc: 0.9966 - loss: 0.0656\n",
            "Epoch 8/10\n",
            "\u001b[1m300/300\u001b[0m \u001b[32m━━━━━━━━━━━━━━━━━━━━\u001b[0m\u001b[37m\u001b[0m \u001b[1m2s\u001b[0m 7ms/step - accuracy: 0.9747 - auc-roc: 0.9964 - loss: 0.0709\n",
            "Epoch 9/10\n",
            "\u001b[1m300/300\u001b[0m \u001b[32m━━━━━━━━━━━━━━━━━━━━\u001b[0m\u001b[37m\u001b[0m \u001b[1m3s\u001b[0m 7ms/step - accuracy: 0.9732 - auc-roc: 0.9959 - loss: 0.0746\n",
            "Epoch 10/10\n",
            "\u001b[1m300/300\u001b[0m \u001b[32m━━━━━━━━━━━━━━━━━━━━\u001b[0m\u001b[37m\u001b[0m \u001b[1m2s\u001b[0m 7ms/step - accuracy: 0.9764 - auc-roc: 0.9963 - loss: 0.0691\n",
            "Round:  18 ---> 171 - 180\n",
            "Epoch 1/10\n",
            "\u001b[1m300/300\u001b[0m \u001b[32m━━━━━━━━━━━━━━━━━━━━\u001b[0m\u001b[37m\u001b[0m \u001b[1m2s\u001b[0m 7ms/step - accuracy: 0.9721 - auc-roc: 0.9954 - loss: 0.0789\n",
            "Epoch 2/10\n",
            "\u001b[1m300/300\u001b[0m \u001b[32m━━━━━━━━━━━━━━━━━━━━\u001b[0m\u001b[37m\u001b[0m \u001b[1m2s\u001b[0m 7ms/step - accuracy: 0.9766 - auc-roc: 0.9963 - loss: 0.0696\n",
            "Epoch 3/10\n",
            "\u001b[1m300/300\u001b[0m \u001b[32m━━━━━━━━━━━━━━━━━━━━\u001b[0m\u001b[37m\u001b[0m \u001b[1m2s\u001b[0m 7ms/step - accuracy: 0.9737 - auc-roc: 0.9959 - loss: 0.0742\n",
            "Epoch 4/10\n",
            "\u001b[1m300/300\u001b[0m \u001b[32m━━━━━━━━━━━━━━━━━━━━\u001b[0m\u001b[37m\u001b[0m \u001b[1m3s\u001b[0m 8ms/step - accuracy: 0.9723 - auc-roc: 0.9955 - loss: 0.0801\n",
            "Epoch 5/10\n",
            "\u001b[1m300/300\u001b[0m \u001b[32m━━━━━━━━━━━━━━━━━━━━\u001b[0m\u001b[37m\u001b[0m \u001b[1m2s\u001b[0m 7ms/step - accuracy: 0.9758 - auc-roc: 0.9966 - loss: 0.0692\n",
            "Epoch 6/10\n",
            "\u001b[1m300/300\u001b[0m \u001b[32m━━━━━━━━━━━━━━━━━━━━\u001b[0m\u001b[37m\u001b[0m \u001b[1m2s\u001b[0m 6ms/step - accuracy: 0.9746 - auc-roc: 0.9954 - loss: 0.0747\n",
            "Epoch 7/10\n",
            "\u001b[1m300/300\u001b[0m \u001b[32m━━━━━━━━━━━━━━━━━━━━\u001b[0m\u001b[37m\u001b[0m \u001b[1m2s\u001b[0m 7ms/step - accuracy: 0.9747 - auc-roc: 0.9961 - loss: 0.0706\n",
            "Epoch 8/10\n",
            "\u001b[1m300/300\u001b[0m \u001b[32m━━━━━━━━━━━━━━━━━━━━\u001b[0m\u001b[37m\u001b[0m \u001b[1m2s\u001b[0m 6ms/step - accuracy: 0.9733 - auc-roc: 0.9957 - loss: 0.0741\n",
            "Epoch 9/10\n",
            "\u001b[1m300/300\u001b[0m \u001b[32m━━━━━━━━━━━━━━━━━━━━\u001b[0m\u001b[37m\u001b[0m \u001b[1m3s\u001b[0m 6ms/step - accuracy: 0.9739 - auc-roc: 0.9953 - loss: 0.0776\n",
            "Epoch 10/10\n",
            "\u001b[1m300/300\u001b[0m \u001b[32m━━━━━━━━━━━━━━━━━━━━\u001b[0m\u001b[37m\u001b[0m \u001b[1m3s\u001b[0m 8ms/step - accuracy: 0.9745 - auc-roc: 0.9968 - loss: 0.0670\n",
            "Round:  19 ---> 181 - 190\n",
            "Epoch 1/10\n",
            "\u001b[1m300/300\u001b[0m \u001b[32m━━━━━━━━━━━━━━━━━━━━\u001b[0m\u001b[37m\u001b[0m \u001b[1m2s\u001b[0m 7ms/step - accuracy: 0.9739 - auc-roc: 0.9957 - loss: 0.0743\n",
            "Epoch 2/10\n",
            "\u001b[1m300/300\u001b[0m \u001b[32m━━━━━━━━━━━━━━━━━━━━\u001b[0m\u001b[37m\u001b[0m \u001b[1m3s\u001b[0m 8ms/step - accuracy: 0.9712 - auc-roc: 0.9957 - loss: 0.0777\n",
            "Epoch 3/10\n",
            "\u001b[1m300/300\u001b[0m \u001b[32m━━━━━━━━━━━━━━━━━━━━\u001b[0m\u001b[37m\u001b[0m \u001b[1m2s\u001b[0m 8ms/step - accuracy: 0.9730 - auc-roc: 0.9959 - loss: 0.0728\n",
            "Epoch 4/10\n",
            "\u001b[1m300/300\u001b[0m \u001b[32m━━━━━━━━━━━━━━━━━━━━\u001b[0m\u001b[37m\u001b[0m \u001b[1m2s\u001b[0m 7ms/step - accuracy: 0.9747 - auc-roc: 0.9960 - loss: 0.0727\n",
            "Epoch 5/10\n",
            "\u001b[1m300/300\u001b[0m \u001b[32m━━━━━━━━━━━━━━━━━━━━\u001b[0m\u001b[37m\u001b[0m \u001b[1m2s\u001b[0m 7ms/step - accuracy: 0.9747 - auc-roc: 0.9959 - loss: 0.0738\n",
            "Epoch 6/10\n",
            "\u001b[1m300/300\u001b[0m \u001b[32m━━━━━━━━━━━━━━━━━━━━\u001b[0m\u001b[37m\u001b[0m \u001b[1m3s\u001b[0m 7ms/step - accuracy: 0.9754 - auc-roc: 0.9960 - loss: 0.0693\n",
            "Epoch 7/10\n",
            "\u001b[1m300/300\u001b[0m \u001b[32m━━━━━━━━━━━━━━━━━━━━\u001b[0m\u001b[37m\u001b[0m \u001b[1m2s\u001b[0m 7ms/step - accuracy: 0.9782 - auc-roc: 0.9964 - loss: 0.0640\n",
            "Epoch 8/10\n",
            "\u001b[1m300/300\u001b[0m \u001b[32m━━━━━━━━━━━━━━━━━━━━\u001b[0m\u001b[37m\u001b[0m \u001b[1m3s\u001b[0m 8ms/step - accuracy: 0.9765 - auc-roc: 0.9958 - loss: 0.0712\n",
            "Epoch 9/10\n",
            "\u001b[1m300/300\u001b[0m \u001b[32m━━━━━━━━━━━━━━━━━━━━\u001b[0m\u001b[37m\u001b[0m \u001b[1m2s\u001b[0m 8ms/step - accuracy: 0.9770 - auc-roc: 0.9968 - loss: 0.0638\n",
            "Epoch 10/10\n",
            "\u001b[1m300/300\u001b[0m \u001b[32m━━━━━━━━━━━━━━━━━━━━\u001b[0m\u001b[37m\u001b[0m \u001b[1m2s\u001b[0m 7ms/step - accuracy: 0.9763 - auc-roc: 0.9969 - loss: 0.0644\n",
            "Round:  20 ---> 191 - 200\n",
            "Epoch 1/10\n",
            "\u001b[1m300/300\u001b[0m \u001b[32m━━━━━━━━━━━━━━━━━━━━\u001b[0m\u001b[37m\u001b[0m \u001b[1m2s\u001b[0m 7ms/step - accuracy: 0.9744 - auc-roc: 0.9962 - loss: 0.0728\n",
            "Epoch 2/10\n",
            "\u001b[1m300/300\u001b[0m \u001b[32m━━━━━━━━━━━━━━━━━━━━\u001b[0m\u001b[37m\u001b[0m \u001b[1m2s\u001b[0m 6ms/step - accuracy: 0.9746 - auc-roc: 0.9964 - loss: 0.0702\n",
            "Epoch 3/10\n",
            "\u001b[1m300/300\u001b[0m \u001b[32m━━━━━━━━━━━━━━━━━━━━\u001b[0m\u001b[37m\u001b[0m \u001b[1m2s\u001b[0m 6ms/step - accuracy: 0.9775 - auc-roc: 0.9965 - loss: 0.0634\n",
            "Epoch 4/10\n",
            "\u001b[1m300/300\u001b[0m \u001b[32m━━━━━━━━━━━━━━━━━━━━\u001b[0m\u001b[37m\u001b[0m \u001b[1m2s\u001b[0m 7ms/step - accuracy: 0.9758 - auc-roc: 0.9969 - loss: 0.0660\n",
            "Epoch 5/10\n",
            "\u001b[1m300/300\u001b[0m \u001b[32m━━━━━━━━━━━━━━━━━━━━\u001b[0m\u001b[37m\u001b[0m \u001b[1m2s\u001b[0m 7ms/step - accuracy: 0.9789 - auc-roc: 0.9964 - loss: 0.0661\n",
            "Epoch 6/10\n",
            "\u001b[1m300/300\u001b[0m \u001b[32m━━━━━━━━━━━━━━━━━━━━\u001b[0m\u001b[37m\u001b[0m \u001b[1m3s\u001b[0m 8ms/step - accuracy: 0.9752 - auc-roc: 0.9960 - loss: 0.0705\n",
            "Epoch 7/10\n",
            "\u001b[1m300/300\u001b[0m \u001b[32m━━━━━━━━━━━━━━━━━━━━\u001b[0m\u001b[37m\u001b[0m \u001b[1m2s\u001b[0m 7ms/step - accuracy: 0.9775 - auc-roc: 0.9968 - loss: 0.0643\n",
            "Epoch 8/10\n",
            "\u001b[1m300/300\u001b[0m \u001b[32m━━━━━━━━━━━━━━━━━━━━\u001b[0m\u001b[37m\u001b[0m \u001b[1m2s\u001b[0m 7ms/step - accuracy: 0.9770 - auc-roc: 0.9968 - loss: 0.0638\n",
            "Epoch 9/10\n",
            "\u001b[1m300/300\u001b[0m \u001b[32m━━━━━━━━━━━━━━━━━━━━\u001b[0m\u001b[37m\u001b[0m \u001b[1m2s\u001b[0m 7ms/step - accuracy: 0.9777 - auc-roc: 0.9970 - loss: 0.0631\n",
            "Epoch 10/10\n",
            "\u001b[1m300/300\u001b[0m \u001b[32m━━━━━━━━━━━━━━━━━━━━\u001b[0m\u001b[37m\u001b[0m \u001b[1m3s\u001b[0m 7ms/step - accuracy: 0.9776 - auc-roc: 0.9966 - loss: 0.0619\n"
          ]
        }
      ]
    },
    {
      "cell_type": "markdown",
      "source": [
        "## Validation"
      ],
      "metadata": {
        "id": "pD5_fO_9BEvL"
      }
    },
    {
      "cell_type": "code",
      "source": [
        "test_labels = np.asarray(external_test_labels)\n",
        "train_labels = np.asarray(labels)"
      ],
      "metadata": {
        "id": "J4JMJj-lAK3J"
      },
      "execution_count": null,
      "outputs": []
    },
    {
      "cell_type": "code",
      "source": [
        "# splitting external_test_set to set of susceptible and resistant ones:\n",
        "x0_test, x1_test, index0_test, index1_test = RS_splitter(external_test_set, test_labels)"
      ],
      "metadata": {
        "id": "vGChkUQkLQIB"
      },
      "execution_count": null,
      "outputs": []
    },
    {
      "cell_type": "code",
      "source": [
        "print(len(x0_test))\n",
        "print(len(x0_test[0]))\n",
        "print(len(x1_test))\n",
        "print(len(x1_test[0]))"
      ],
      "metadata": {
        "id": "MDrsCay5AvGs",
        "colab": {
          "base_uri": "https://localhost:8080/"
        },
        "outputId": "0711b409-0bab-4900-987a-9eb9f5a90dd5"
      },
      "execution_count": null,
      "outputs": [
        {
          "output_type": "stream",
          "name": "stdout",
          "text": [
            "120\n",
            "2996\n",
            "1251\n",
            "2996\n"
          ]
        }
      ]
    },
    {
      "cell_type": "code",
      "source": [
        "x0_train, x1_train, index0_train, index1_train = RS_splitter(data, labels)"
      ],
      "metadata": {
        "id": "yYjLDBdxLZKI"
      },
      "execution_count": null,
      "outputs": []
    },
    {
      "cell_type": "code",
      "source": [
        "print(len(x0_train))\n",
        "print(len(x0_train[0]))\n",
        "print(len(x1_train))\n",
        "print(len(x1_train[0]))"
      ],
      "metadata": {
        "colab": {
          "base_uri": "https://localhost:8080/"
        },
        "id": "YDekyAvWHzcn",
        "outputId": "3a26daed-dac9-4e64-e2c9-032f53a21853"
      },
      "execution_count": null,
      "outputs": [
        {
          "output_type": "stream",
          "name": "stdout",
          "text": [
            "1940\n",
            "2996\n",
            "4690\n",
            "2996\n"
          ]
        }
      ]
    },
    {
      "cell_type": "code",
      "source": [
        "x0_train = np.asarray(x0_train)\n",
        "x1_train = np.asarray(x1_train)"
      ],
      "metadata": {
        "id": "sbMf7HvoHb1a"
      },
      "execution_count": null,
      "outputs": []
    },
    {
      "cell_type": "markdown",
      "source": [
        "## Procedure (Per test sample)"
      ],
      "metadata": {
        "id": "V3IVWtWCSWHW"
      }
    },
    {
      "cell_type": "code",
      "source": [
        "test_labels = []  # True labels for test samples.\n",
        "aggre_preds = [] # Aggregated pred values for each sample, by DefineTest2 func.\n",
        "internal_labels = [] # Labels form ExternalTest2 for internal test\n",
        "internal_preds = [] # internal_labels corresponding predictions\n",
        "test_indices = []\n",
        "\n",
        "for c, i in enumerate(x0_test):      #x0_test, x1_test, x0_train, x1_train\n",
        "  data, labels, indexSample = ExternalTest([i], [], x0_train, x1_train) # makes i couple with x0_train & x1_train\n",
        "  internal_labels += labels.tolist()\n",
        "  predd = siamese_net.predict([[data[:, :2693],\n",
        "                           data[:, 2693:(2693+2693)]],\n",
        "                           data[:, (2693+2693):]], verbose=0)\n",
        "  internal_preds += predd.tolist()\n",
        "  y_pred, label = DefineTest2([i], [], indexSample, predd)\n",
        "  aggre_preds.append(y_pred[0][0]) # y_pred ---> [array([0.5], dtype=float32)]\n",
        "  test_labels.append(label[0])\n",
        "  test_indices.append(index0_test[c]) # Index in original data\n",
        "\n",
        "for c, i in enumerate(x1_test):\n",
        "  data, labels, indexSample = ExternalTest([], [i], x0_train, x1_train)\n",
        "  internal_labels += labels.tolist()\n",
        "  predd = siamese_net.predict([[data[:, :2693],\n",
        "                           data[:, 2693:(2693+2693)]],\n",
        "                           data[:, (2693+2693):]], verbose=0)\n",
        "  internal_preds += predd.tolist()\n",
        "  y_pred, label = DefineTest2([], [i], indexSample, predd)\n",
        "  aggre_preds.append(y_pred[0][0])\n",
        "  test_labels.append(label[0])\n",
        "  test_indices.append(index1_test[c]) # Index in original data"
      ],
      "metadata": {
        "id": "BJIkOzXLl33_"
      },
      "execution_count": null,
      "outputs": []
    },
    {
      "cell_type": "code",
      "source": [
        "temp = [i[0] for i in internal_preds]\n",
        "internal_preds = temp"
      ],
      "metadata": {
        "id": "zchyk4n1JzKa"
      },
      "execution_count": null,
      "outputs": []
    },
    {
      "cell_type": "markdown",
      "source": [
        "## TSA-Net evaluation\n",
        "\n",
        "(Similarity test)"
      ],
      "metadata": {
        "id": "-oP8Gp_VGHqD"
      }
    },
    {
      "cell_type": "code",
      "source": [
        "acc, auc, sen, spc, _, _, _, _ = evaluation(internal_labels, internal_preds)"
      ],
      "metadata": {
        "id": "o5qEDH5zF-Ro",
        "colab": {
          "base_uri": "https://localhost:8080/",
          "height": 549
        },
        "outputId": "2d61daa9-962a-4e4f-a012-27372e028013"
      },
      "execution_count": null,
      "outputs": [
        {
          "output_type": "stream",
          "name": "stdout",
          "text": [
            "Accuracy:  0.9049123783155312\n",
            "ROC-AUC:  0.8768397461466372\n",
            "Sensitivity:  0.9434648483922182\n",
            "Specificity:  0.8102146439010561\n",
            "# of TPs:  604944\n",
            "# of FPs:  49541\n",
            "# of TNs:  211496\n",
            "# of FNs:  36250\n"
          ]
        },
        {
          "output_type": "display_data",
          "data": {
            "text/plain": [
              "<Figure size 400x400 with 1 Axes>"
            ],
            "image/png": "[encoded data removed]"
          },
          "metadata": {}
        }
      ]
    },
    {
      "cell_type": "markdown",
      "source": [
        "## Phenotype prediction test"
      ],
      "metadata": {
        "id": "K4ZLR2CFI2xA"
      }
    },
    {
      "cell_type": "code",
      "source": [
        "acc, auc, sen, spc, TN, FP, FN, TP = evaluation(test_labels, aggre_preds)"
      ],
      "metadata": {
        "id": "pUdWf-SbI2Kw",
        "colab": {
          "base_uri": "https://localhost:8080/",
          "height": 549
        },
        "outputId": "118a7535-0fe5-4da3-9f1d-218f9e83b467"
      },
      "execution_count": null,
      "outputs": [
        {
          "output_type": "stream",
          "name": "stdout",
          "text": [
            "Accuracy:  0.912472647702407\n",
            "ROC-AUC:  0.786290967226219\n",
            "Sensitivity:  0.9392486011191047\n",
            "Specificity:  0.6333333333333333\n",
            "# of TPs:  1175\n",
            "# of FPs:  44\n",
            "# of TNs:  76\n",
            "# of FNs:  76\n"
          ]
        },
        {
          "output_type": "display_data",
          "data": {
            "text/plain": [
              "<Figure size 400x400 with 1 Axes>"
            ],
            "image/png": "[encoded data removed]"
          },
          "metadata": {}
        }
      ]
    },
    {
      "cell_type": "markdown",
      "source": [
        "## Curves"
      ],
      "metadata": {
        "id": "sPLlzRTkjE7Q"
      }
    },
    {
      "cell_type": "code",
      "source": [
        "plot_curves(test_labels, aggre_preds)"
      ],
      "metadata": {
        "id": "NkWgMJCKheg0",
        "colab": {
          "base_uri": "https://localhost:8080/",
          "height": 927
        },
        "outputId": "01d707a9-863e-4b05-8f9a-79c4b28b4767"
      },
      "execution_count": null,
      "outputs": [
        {
          "output_type": "display_data",
          "data": {
            "text/plain": [
              "<Figure size 640x480 with 1 Axes>"
            ],
            "image/png": "[encoded data removed]"
          },
          "metadata": {}
        },
        {
          "output_type": "display_data",
          "data": {
            "text/plain": [
              "<Figure size 640x480 with 1 Axes>"
            ],
            "image/png": "[encoded data removed]"
          },
          "metadata": {}
        }
      ]
    },
    {
      "cell_type": "markdown",
      "source": [
        "## Per-drug evaluation"
      ],
      "metadata": {
        "id": "cpzK985gjdeg"
      }
    },
    {
      "cell_type": "code",
      "source": [
        "unq_drugs, acc, auc, sen, spc, TN, FP, FN, TP = EvalPerDrug(test_labels, aggre_preds, test_indices, external_test_drugs)"
      ],
      "metadata": {
        "id": "xpLXzmAvjibT",
        "colab": {
          "base_uri": "https://localhost:8080/"
        },
        "outputId": "7bf1b1a4-4223-4681-aa65-6fcfc238bf1c"
      },
      "execution_count": null,
      "outputs": [
        {
          "output_type": "stream",
          "name": "stderr",
          "text": [
            "/usr/local/lib/python3.11/dist-packages/sklearn/metrics/_ranking.py:379: UndefinedMetricWarning: Only one class is present in y_true. ROC AUC score is not defined in that case.\n",
            "  warnings.warn(\n",
            "<ipython-input-74-41fa3bb299a2>:43: RuntimeWarning: invalid value encountered in scalar divide\n",
            "  spe.append(TN/(TN+FP))\n",
            "/usr/local/lib/python3.11/dist-packages/sklearn/metrics/_ranking.py:379: UndefinedMetricWarning: Only one class is present in y_true. ROC AUC score is not defined in that case.\n",
            "  warnings.warn(\n",
            "<ipython-input-74-41fa3bb299a2>:43: RuntimeWarning: invalid value encountered in scalar divide\n",
            "  spe.append(TN/(TN+FP))\n"
          ]
        }
      ]
    },
    {
      "cell_type": "code",
      "source": [
        "print('Drug names: ', unq_drugs)\n",
        "print('ACCs: ', acc)\n",
        "print('AUCs: ', auc)\n",
        "print('SENs: ', sen)\n",
        "print(\"SPC: \", spc)\n",
        "print('TPs: ', TP)\n",
        "print('TNs: ', TN)\n",
        "print('FPs: ', FP)\n",
        "print('FNs: ', FN)"
      ],
      "metadata": {
        "id": "Ok9K7wf1sr8W",
        "colab": {
          "base_uri": "https://localhost:8080/"
        },
        "outputId": "c5189231-60ff-4f53-b61e-f881f701d5e0"
      },
      "execution_count": null,
      "outputs": [
        {
          "output_type": "stream",
          "name": "stdout",
          "text": [
            "Drug names:  ['amikacin', 'cefotaxime', 'ceftazidime', 'ceftriaxone', 'ciprofloxacin', 'gentamicin', 'imipenem', 'levofloxacin', 'meropenem', 'tetracycline']\n",
            "ACCs:  [0.7536231884057971, 1.0, 0.9511111111111111, 0.9857142857142858, 0.9017094017094017, 0.9156118143459916, 0.9259259259259259, 1.0, 0.9259259259259259, 1.0]\n",
            "AUCs:  [0.7932426689332768, nan, 0.740521327014218, 0.7475728155339806, 0.7324335462600453, 0.7142857142857143, 0.96, 1.0, 0.96, nan]\n",
            "SENs:  [0.7403314917127072, 1.0, 0.981042654028436, 0.9951456310679612, 0.943127962085308, 1.0, 0.92, 1.0, 0.92, 1.0]\n",
            "SPC:  [0.8461538461538461, nan, 0.5, 0.5, 0.5217391304347826, 0.42857142857142855, 1.0, 1.0, 1.0, nan]\n",
            "TPs:  [134, 10, 207, 205, 199, 202, 69, 66, 69, 14]\n",
            "TNs:  [22, 0, 7, 2, 12, 15, 6, 6, 6, 0]\n",
            "FPs:  [4, 0, 7, 2, 11, 20, 0, 0, 0, 0]\n",
            "FNs:  [47, 0, 4, 1, 12, 0, 6, 0, 6, 0]\n"
          ]
        }
      ]
    },
    {
      "cell_type": "code",
      "source": [
        "acc = [0.75, 1.0, 0.95, 0.98, 0.90, 0.91, 0.92, 1.0, 0.92, 1.0]\n",
        "auc = [0.79, -0.1, 0.74, 0.74, 0.73, 0.71, 0.96, 1.0, 0.96, -0.1]\n",
        "sen = [0.74, 1.0, 0.98, 0.99, 0.94, 1.0, 0.92, 1.0, 0.92, 1.0]\n",
        "spc = [0.84, -0.1, 0.5, 0.5, 0.52, 0.42, 1.0, 1.0, 1.0, -0.1]"
      ],
      "metadata": {
        "id": "Y3VRDSaXcVlf"
      },
      "execution_count": null,
      "outputs": []
    },
    {
      "cell_type": "code",
      "source": [
        "TP = [134, 10, 207, 205, 199, 202, 69, 66, 69, 14]\n",
        "TN = [22, 0, 7, 2, 12, 15, 6, 6, 6, 0]\n",
        "FP = [4, 0, 7, 2, 11, 20, 0, 0, 0, 0]\n",
        "FN = [47, 0, 4, 1, 12, 0, 6, 0, 6, 0]"
      ],
      "metadata": {
        "id": "RhIn3WQ4E6JA"
      },
      "execution_count": null,
      "outputs": []
    },
    {
      "cell_type": "code",
      "source": [
        "unq_drugs = ['AKN', 'CTM', 'CZM', 'CXN', 'CFN', 'GMN', 'IPM', 'LFN', 'MPM', 'TCN']"
      ],
      "metadata": {
        "id": "xY1Oq0bpEP1w"
      },
      "execution_count": null,
      "outputs": []
    },
    {
      "cell_type": "code",
      "source": [
        "import numpy as np\n",
        "import matplotlib.pyplot as plt"
      ],
      "metadata": {
        "id": "0dO-yo_eGggo"
      },
      "execution_count": null,
      "outputs": []
    },
    {
      "cell_type": "code",
      "source": [
        "fig, ax = plt.subplots(figsize=(12, 5.5))\n",
        "bar_width = 0.2\n",
        "x = np.arange(len(unq_drugs))\n",
        "\n",
        "# Grouped Bar Plot\n",
        "TPs = plt.bar(x - 1.5*bar_width, TP, bar_width, label='# of TPs', color='pink')\n",
        "TNs = plt.bar(x - 0.5*bar_width, TN, bar_width, label='# of TNs', color='lightblue')\n",
        "FPs = plt.bar(x + 0.5*bar_width, FP, bar_width, label='# of FPs', color='yellow')\n",
        "FNs = plt.bar(x + 1.5*bar_width, FN, bar_width, label='# of FNs', color='orange')\n",
        "\n",
        "# Adding labels and title\n",
        "plt.xlabel('Drug names')\n",
        "plt.ylabel('Number of samples')\n",
        "plt.title('# of TP/TN/FP/FN per drug in strain-aside dataset')\n",
        "plt.xticks(x, unq_drugs)\n",
        "plt.legend()\n",
        "\n",
        "# Adding annotations\n",
        "def add_annotations(ax, rects):\n",
        "    for rect in rects:\n",
        "        height = rect.get_height()\n",
        "        ax.annotate(f'{height}',\n",
        "                    xy=(rect.get_x() + rect.get_width() / 2, height),\n",
        "                    xytext=(0, 3),  # 3 points vertical offset\n",
        "                    textcoords=\"offset points\",\n",
        "                    ha='center', va='bottom')\n",
        "\n",
        "add_annotations(ax, TPs)\n",
        "add_annotations(ax, TNs)\n",
        "add_annotations(ax, FPs)\n",
        "add_annotations(ax, FNs)\n",
        "\n",
        "plt.savefig(\"/content/drive/MyDrive/TPTNFPFN.png\")\n",
        "\n",
        "plt.show()"
      ],
      "metadata": {
        "id": "tX8OWmT6qNzS",
        "colab": {
          "base_uri": "https://localhost:8080/",
          "height": 451
        },
        "outputId": "58729fe0-faa8-432e-a061-c6265e145eca"
      },
      "execution_count": null,
      "outputs": [
        {
          "output_type": "display_data",
          "data": {
            "text/plain": [
              "<Figure size 1200x550 with 1 Axes>"
            ],
            "image/png": "[encoded data removed]"
          },
          "metadata": {}
        }
      ]
    },
    {
      "cell_type": "code",
      "source": [
        "fig, ax = plt.subplots(figsize=(15, 5.5))\n",
        "bar_width = 0.2\n",
        "x = np.arange(len(unq_drugs))\n",
        "\n",
        "# Grouped Bar Plot\n",
        "acc_bar = plt.bar(x - 1.5*bar_width, acc, bar_width, label='Accuracy', color='pink')\n",
        "auc_bar = plt.bar(x - 0.5*bar_width, auc, bar_width, label='AUC-score', color='lightblue')\n",
        "sen_bar = plt.bar(x + 0.5*bar_width, sen, bar_width, label='sensitivity', color='lightcoral')\n",
        "spc_bar = plt.bar(x + 1.5*bar_width, spc, bar_width, label='specificity', color='orange')\n",
        "\n",
        "# Adding labels and title\n",
        "plt.xlabel('Drug names')\n",
        "plt.ylabel('')\n",
        "plt.title('Evaluation per drug in strain-aside dataset')\n",
        "plt.xticks(x, unq_drugs)\n",
        "plt.legend()\n",
        "\n",
        "# Adding annotations\n",
        "def add_annotations(ax, rects):\n",
        "    for rect in rects:\n",
        "        height = rect.get_height()\n",
        "        ax.annotate(f'{height}',\n",
        "                    xy=(rect.get_x() + rect.get_width() / 2, height),\n",
        "                    xytext=(0, 3),  # 3 points vertical offset\n",
        "                    textcoords=\"offset points\",\n",
        "                    ha='center', va='bottom', fontsize=8)\n",
        "\n",
        "add_annotations(ax, acc_bar)\n",
        "add_annotations(ax, auc_bar)\n",
        "add_annotations(ax, sen_bar)\n",
        "add_annotations(ax, spc_bar)\n",
        "\n",
        "plt.savefig(\"/content/drive/MyDrive/Metrics.png\")\n",
        "\n",
        "plt.show()"
      ],
      "metadata": {
        "id": "4p_K14t2sJLa",
        "colab": {
          "base_uri": "https://localhost:8080/",
          "height": 376
        },
        "outputId": "fd182dc2-5ae7-4da8-8393-c0e173ebacca"
      },
      "execution_count": null,
      "outputs": [
        {
          "output_type": "display_data",
          "data": {
            "text/plain": [
              "<Figure size 1500x550 with 1 Axes>"
            ],
            "image/png": "[encoded data removed]"
          },
          "metadata": {}
        }
      ]
    }
  ]
}